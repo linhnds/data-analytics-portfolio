{
 "cells": [
  {
   "cell_type": "markdown",
   "metadata": {
    "id": "BHg0HZz-intQ"
   },
   "source": [
    "# Introduction"
   ]
  },
  {
   "cell_type": "markdown",
   "metadata": {
    "id": "V2RQkgAbiqJv"
   },
   "source": [
    "The National Longitudinal Survey of Youth 1997-2011 dataset is one of the most important databases available to social scientists working with US data. \n",
    "\n",
    "It allows scientists to look at the determinants of earnings as well as educational attainment and has incredible relevance for government policy. It can also shed light on politically sensitive issues like how different educational attainment and salaries are for people of different ethnicity, sex, and other factors. When we have a better understanding how these variables affect education and earnings we can also formulate more suitable government policies. \n",
    "\n",
    "<center><img src=https://i.imgur.com/cxBpQ3I.png height=400></center>\n"
   ]
  },
  {
   "cell_type": "markdown",
   "metadata": {
    "id": "YjCPWWUSirY_"
   },
   "source": [
    "### Upgrade Plotly"
   ]
  },
  {
   "cell_type": "code",
   "execution_count": 1,
   "metadata": {
    "id": "v74l3QCGirIX"
   },
   "outputs": [
    {
     "name": "stdout",
     "output_type": "stream",
     "text": [
      "Requirement already satisfied: plotly in /Users/linh/opt/anaconda3/lib/python3.9/site-packages (5.15.0)\n",
      "Requirement already satisfied: packaging in /Users/linh/opt/anaconda3/lib/python3.9/site-packages (from plotly) (21.3)\n",
      "Requirement already satisfied: tenacity>=6.2.0 in /Users/linh/opt/anaconda3/lib/python3.9/site-packages (from plotly) (8.0.1)\n",
      "Requirement already satisfied: pyparsing!=3.0.5,>=2.0.2 in /Users/linh/opt/anaconda3/lib/python3.9/site-packages (from packaging->plotly) (3.0.9)\n",
      "Note: you may need to restart the kernel to use updated packages.\n"
     ]
    }
   ],
   "source": [
    "%pip install --upgrade plotly"
   ]
  },
  {
   "cell_type": "markdown",
   "metadata": {
    "id": "br_QkHBMjC1Q"
   },
   "source": [
    "###  Import Statements\n"
   ]
  },
  {
   "cell_type": "code",
   "execution_count": 2,
   "metadata": {
    "id": "gSKZx-kwie_u"
   },
   "outputs": [],
   "source": [
    "# Data manipulation\n",
    "import pandas as pd\n",
    "import numpy as np\n",
    "\n",
    "# Data visualization\n",
    "import seaborn as sns\n",
    "import plotly.express as px\n",
    "import matplotlib.pyplot as plt\n",
    "\n",
    "# Statistics model, train test split and metrics\n",
    "from sklearn.linear_model import LinearRegression\n",
    "from sklearn.model_selection import train_test_split\n",
    "from sklearn.metrics import mean_absolute_error,r2_score,mean_squared_error"
   ]
  },
  {
   "cell_type": "markdown",
   "metadata": {
    "id": "9pgsrth_izCn"
   },
   "source": [
    "## Notebook Presentation"
   ]
  },
  {
   "cell_type": "code",
   "execution_count": 3,
   "metadata": {
    "id": "Cgwu-WbBizqY"
   },
   "outputs": [],
   "source": [
    "pd.set_option('display.max_columns', None)\n",
    "pd.options.display.float_format = '{:,.2f}'.format"
   ]
  },
  {
   "cell_type": "markdown",
   "metadata": {
    "id": "E5bhysOOjLRr"
   },
   "source": [
    "# Load the Data"
   ]
  },
  {
   "cell_type": "code",
   "execution_count": 4,
   "metadata": {
    "id": "6VngeTQwjM-X"
   },
   "outputs": [],
   "source": [
    "df_data = pd.read_csv('NLSY97_subset.csv')"
   ]
  },
  {
   "cell_type": "markdown",
   "metadata": {
    "id": "_ZjIBJ5jjrj0"
   },
   "source": [
    "### Understand the Dataset\n",
    "\n",
    "Have a look at the file entitled `NLSY97_Variable_Names_and_Descriptions.csv`. \n",
    "\n",
    "---------------------------\n",
    "\n",
    "***Key Variables***\n",
    "  1. S: Years of schooling (highest grade completed as of 2011).\n",
    "  2. EXP: Total out-of-school work experience (years) as of the 2011 interview.\n",
    "  3. EARNINGS: Current hourly earnings in $ reported at the 2011 interview.\n",
    "\n",
    "***Other work-related variables***\n",
    "\n",
    "* HOURS: Usual number of hours worked per week, 2011 interview.\n",
    "* TENURE: Tenure (years) with current employer at the 2011 interview.\n",
    "* COLLBARG: Pay set by collective bargaining, 2011.\n",
    "* JOBS: Number of jobs, as of 2011 interview."
   ]
  },
  {
   "cell_type": "markdown",
   "metadata": {
    "id": "8MkSxkjVnIfW"
   },
   "source": [
    "# 🔎 Preliminary Data Exploration"
   ]
  },
  {
   "cell_type": "code",
   "execution_count": 5,
   "metadata": {
    "id": "V_cQguBbjwZv"
   },
   "outputs": [
    {
     "data": {
      "text/plain": [
       "(2000, 96)"
      ]
     },
     "execution_count": 5,
     "metadata": {},
     "output_type": "execute_result"
    }
   ],
   "source": [
    "df_data.shape"
   ]
  },
  {
   "cell_type": "markdown",
   "metadata": {},
   "source": [
    "* Dataset has 2000 rows and 96 columns."
   ]
  },
  {
   "cell_type": "code",
   "execution_count": 6,
   "metadata": {},
   "outputs": [
    {
     "data": {
      "text/plain": [
       "Index(['ID', 'EARNINGS', 'S', 'EXP', 'FEMALE', 'MALE', 'BYEAR', 'AGE',\n",
       "       'AGEMBTH', 'HHINC97', 'POVRAT97', 'HHBMBF', 'HHBMOF', 'HHOMBF',\n",
       "       'HHBMONLY', 'HHBFONLY', 'HHOTHER', 'MSA97NO', 'MSA97NCC', 'MSA97CC',\n",
       "       'MSA97NK', 'ETHBLACK', 'ETHHISP', 'ETHWHITE', 'EDUCPROF', 'EDUCPHD',\n",
       "       'EDUCMAST', 'EDUCBA', 'EDUCAA', 'EDUCHSD', 'EDUCGED', 'EDUCDO',\n",
       "       'PRMONM', 'PRMONF', 'PRMSTYUN', 'PRMSTYPE', 'PRMSTYAN', 'PRMSTYAE',\n",
       "       'PRFSTYUN', 'PRFSTYPE', 'PRFSTYAN', 'PRFSTYAE', 'SINGLE', 'MARRIED',\n",
       "       'COHABIT', 'OTHSING', 'FAITHN', 'FAITHP', 'FAITHC', 'FAITHJ', 'FAITHO',\n",
       "       'FAITHM', 'ASVABAR', 'ASVABWK', 'ASVABPC', 'ASVABMK', 'ASVABNO',\n",
       "       'ASVABCS', 'ASVABC', 'ASVABC4', 'VERBAL', 'ASVABMV', 'HEIGHT',\n",
       "       'WEIGHT04', 'WEIGHT11', 'SF', 'SM', 'SFR', 'SMR', 'SIBLINGS', 'REG97NE',\n",
       "       'REG97NC', 'REG97S', 'REG97W', 'RS97RURL', 'RS97URBN', 'RS97UNKN',\n",
       "       'JOBS', 'HOURS', 'TENURE', 'CATGOV', 'CATPRI', 'CATNPO', 'CATMIS',\n",
       "       'CATSE', 'COLLBARG', 'URBAN', 'REGNE', 'REGNC', 'REGW', 'REGS',\n",
       "       'MSA11NO', 'MSA11NCC', 'MSA11CC', 'MSA11NK', 'MSA11NIC'],\n",
       "      dtype='object')"
      ]
     },
     "execution_count": 6,
     "metadata": {},
     "output_type": "execute_result"
    }
   ],
   "source": [
    "df_data.columns"
   ]
  },
  {
   "cell_type": "markdown",
   "metadata": {
    "id": "4itxqgP6nQj3"
   },
   "source": [
    "## Data Cleaning - Check for Missing Values and Duplicates\n",
    "\n",
    "Find and remove any duplicate rows."
   ]
  },
  {
   "cell_type": "code",
   "execution_count": 7,
   "metadata": {},
   "outputs": [
    {
     "data": {
      "text/plain": [
       "16"
      ]
     },
     "execution_count": 7,
     "metadata": {},
     "output_type": "execute_result"
    }
   ],
   "source": [
    "df_data.isna().any().sum()"
   ]
  },
  {
   "cell_type": "markdown",
   "metadata": {},
   "source": [
    "* There are 16 NaN values."
   ]
  },
  {
   "cell_type": "code",
   "execution_count": 8,
   "metadata": {},
   "outputs": [
    {
     "data": {
      "text/plain": [
       "513"
      ]
     },
     "execution_count": 8,
     "metadata": {},
     "output_type": "execute_result"
    }
   ],
   "source": [
    "df_data.duplicated().sum()"
   ]
  },
  {
   "cell_type": "markdown",
   "metadata": {},
   "source": [
    "* There are 513 duplicated values."
   ]
  },
  {
   "cell_type": "code",
   "execution_count": 9,
   "metadata": {
    "id": "J3DHEFXWnS2N"
   },
   "outputs": [
    {
     "name": "stdout",
     "output_type": "stream",
     "text": [
      "0\n"
     ]
    },
    {
     "data": {
      "text/plain": [
       "0"
      ]
     },
     "execution_count": 9,
     "metadata": {},
     "output_type": "execute_result"
    }
   ],
   "source": [
    "df = df_data.dropna()\n",
    "df = df.drop_duplicates()\n",
    "print(df.isna().any().sum())\n",
    "df.duplicated().sum()"
   ]
  },
  {
   "cell_type": "code",
   "execution_count": 10,
   "metadata": {},
   "outputs": [
    {
     "data": {
      "text/html": [
       "<div>\n",
       "<style scoped>\n",
       "    .dataframe tbody tr th:only-of-type {\n",
       "        vertical-align: middle;\n",
       "    }\n",
       "\n",
       "    .dataframe tbody tr th {\n",
       "        vertical-align: top;\n",
       "    }\n",
       "\n",
       "    .dataframe thead th {\n",
       "        text-align: right;\n",
       "    }\n",
       "</style>\n",
       "<table border=\"1\" class=\"dataframe\">\n",
       "  <thead>\n",
       "    <tr style=\"text-align: right;\">\n",
       "      <th></th>\n",
       "      <th>id</th>\n",
       "      <th>earnings</th>\n",
       "      <th>s</th>\n",
       "      <th>exp</th>\n",
       "      <th>female</th>\n",
       "      <th>male</th>\n",
       "      <th>byear</th>\n",
       "      <th>age</th>\n",
       "      <th>agembth</th>\n",
       "      <th>hhinc97</th>\n",
       "      <th>povrat97</th>\n",
       "      <th>hhbmbf</th>\n",
       "      <th>hhbmof</th>\n",
       "      <th>hhombf</th>\n",
       "      <th>hhbmonly</th>\n",
       "      <th>hhbfonly</th>\n",
       "      <th>hhother</th>\n",
       "      <th>msa97no</th>\n",
       "      <th>msa97ncc</th>\n",
       "      <th>msa97cc</th>\n",
       "      <th>msa97nk</th>\n",
       "      <th>ethblack</th>\n",
       "      <th>ethhisp</th>\n",
       "      <th>ethwhite</th>\n",
       "      <th>educprof</th>\n",
       "      <th>educphd</th>\n",
       "      <th>educmast</th>\n",
       "      <th>educba</th>\n",
       "      <th>educaa</th>\n",
       "      <th>educhsd</th>\n",
       "      <th>educged</th>\n",
       "      <th>educdo</th>\n",
       "      <th>prmonm</th>\n",
       "      <th>prmonf</th>\n",
       "      <th>prmstyun</th>\n",
       "      <th>prmstype</th>\n",
       "      <th>prmstyan</th>\n",
       "      <th>prmstyae</th>\n",
       "      <th>prfstyun</th>\n",
       "      <th>prfstype</th>\n",
       "      <th>prfstyan</th>\n",
       "      <th>prfstyae</th>\n",
       "      <th>single</th>\n",
       "      <th>married</th>\n",
       "      <th>cohabit</th>\n",
       "      <th>othsing</th>\n",
       "      <th>faithn</th>\n",
       "      <th>faithp</th>\n",
       "      <th>faithc</th>\n",
       "      <th>faithj</th>\n",
       "      <th>faitho</th>\n",
       "      <th>faithm</th>\n",
       "      <th>asvabar</th>\n",
       "      <th>asvabwk</th>\n",
       "      <th>asvabpc</th>\n",
       "      <th>asvabmk</th>\n",
       "      <th>asvabno</th>\n",
       "      <th>asvabcs</th>\n",
       "      <th>asvabc</th>\n",
       "      <th>asvabc4</th>\n",
       "      <th>verbal</th>\n",
       "      <th>asvabmv</th>\n",
       "      <th>height</th>\n",
       "      <th>weight04</th>\n",
       "      <th>weight11</th>\n",
       "      <th>sf</th>\n",
       "      <th>sm</th>\n",
       "      <th>sfr</th>\n",
       "      <th>smr</th>\n",
       "      <th>siblings</th>\n",
       "      <th>reg97ne</th>\n",
       "      <th>reg97nc</th>\n",
       "      <th>reg97s</th>\n",
       "      <th>reg97w</th>\n",
       "      <th>rs97rurl</th>\n",
       "      <th>rs97urbn</th>\n",
       "      <th>rs97unkn</th>\n",
       "      <th>jobs</th>\n",
       "      <th>hours</th>\n",
       "      <th>tenure</th>\n",
       "      <th>catgov</th>\n",
       "      <th>catpri</th>\n",
       "      <th>catnpo</th>\n",
       "      <th>catmis</th>\n",
       "      <th>catse</th>\n",
       "      <th>collbarg</th>\n",
       "      <th>urban</th>\n",
       "      <th>regne</th>\n",
       "      <th>regnc</th>\n",
       "      <th>regw</th>\n",
       "      <th>regs</th>\n",
       "      <th>msa11no</th>\n",
       "      <th>msa11ncc</th>\n",
       "      <th>msa11cc</th>\n",
       "      <th>msa11nk</th>\n",
       "      <th>msa11nic</th>\n",
       "    </tr>\n",
       "  </thead>\n",
       "  <tbody>\n",
       "    <tr>\n",
       "      <th>0</th>\n",
       "      <td>4275</td>\n",
       "      <td>18.50</td>\n",
       "      <td>12</td>\n",
       "      <td>9.71</td>\n",
       "      <td>0</td>\n",
       "      <td>1</td>\n",
       "      <td>1984</td>\n",
       "      <td>27</td>\n",
       "      <td>24.00</td>\n",
       "      <td>64,000.00</td>\n",
       "      <td>402.00</td>\n",
       "      <td>1</td>\n",
       "      <td>0</td>\n",
       "      <td>0</td>\n",
       "      <td>0</td>\n",
       "      <td>0</td>\n",
       "      <td>0</td>\n",
       "      <td>0</td>\n",
       "      <td>0</td>\n",
       "      <td>1</td>\n",
       "      <td>0</td>\n",
       "      <td>0</td>\n",
       "      <td>0</td>\n",
       "      <td>1</td>\n",
       "      <td>0</td>\n",
       "      <td>0</td>\n",
       "      <td>0</td>\n",
       "      <td>0</td>\n",
       "      <td>0</td>\n",
       "      <td>1</td>\n",
       "      <td>0</td>\n",
       "      <td>0</td>\n",
       "      <td>14.00</td>\n",
       "      <td>14.00</td>\n",
       "      <td>0.00</td>\n",
       "      <td>0.00</td>\n",
       "      <td>0.00</td>\n",
       "      <td>1.00</td>\n",
       "      <td>0.00</td>\n",
       "      <td>0.00</td>\n",
       "      <td>0.00</td>\n",
       "      <td>1.00</td>\n",
       "      <td>0</td>\n",
       "      <td>1</td>\n",
       "      <td>0</td>\n",
       "      <td>0</td>\n",
       "      <td>0</td>\n",
       "      <td>0</td>\n",
       "      <td>1</td>\n",
       "      <td>0</td>\n",
       "      <td>0</td>\n",
       "      <td>0</td>\n",
       "      <td>0.12</td>\n",
       "      <td>-0.69</td>\n",
       "      <td>-0.31</td>\n",
       "      <td>-0.29</td>\n",
       "      <td>-0.36</td>\n",
       "      <td>-0.72</td>\n",
       "      <td>-0.21</td>\n",
       "      <td>-0.32</td>\n",
       "      <td>-0.53</td>\n",
       "      <td>29818</td>\n",
       "      <td>70</td>\n",
       "      <td>155</td>\n",
       "      <td>186</td>\n",
       "      <td>12</td>\n",
       "      <td>12</td>\n",
       "      <td>12.00</td>\n",
       "      <td>12.00</td>\n",
       "      <td>1</td>\n",
       "      <td>0</td>\n",
       "      <td>0</td>\n",
       "      <td>1</td>\n",
       "      <td>0</td>\n",
       "      <td>0</td>\n",
       "      <td>1</td>\n",
       "      <td>0</td>\n",
       "      <td>6.00</td>\n",
       "      <td>50</td>\n",
       "      <td>4.77</td>\n",
       "      <td>0</td>\n",
       "      <td>1</td>\n",
       "      <td>0</td>\n",
       "      <td>0</td>\n",
       "      <td>0</td>\n",
       "      <td>0</td>\n",
       "      <td>1</td>\n",
       "      <td>0</td>\n",
       "      <td>0</td>\n",
       "      <td>1</td>\n",
       "      <td>0</td>\n",
       "      <td>0</td>\n",
       "      <td>0</td>\n",
       "      <td>1</td>\n",
       "      <td>0</td>\n",
       "      <td>0</td>\n",
       "    </tr>\n",
       "    <tr>\n",
       "      <th>4</th>\n",
       "      <td>1994</td>\n",
       "      <td>36.06</td>\n",
       "      <td>15</td>\n",
       "      <td>2.94</td>\n",
       "      <td>0</td>\n",
       "      <td>1</td>\n",
       "      <td>1984</td>\n",
       "      <td>27</td>\n",
       "      <td>23.00</td>\n",
       "      <td>44,188.00</td>\n",
       "      <td>278.00</td>\n",
       "      <td>1</td>\n",
       "      <td>0</td>\n",
       "      <td>0</td>\n",
       "      <td>0</td>\n",
       "      <td>0</td>\n",
       "      <td>0</td>\n",
       "      <td>0</td>\n",
       "      <td>0</td>\n",
       "      <td>1</td>\n",
       "      <td>0</td>\n",
       "      <td>0</td>\n",
       "      <td>0</td>\n",
       "      <td>1</td>\n",
       "      <td>0</td>\n",
       "      <td>0</td>\n",
       "      <td>0</td>\n",
       "      <td>0</td>\n",
       "      <td>0</td>\n",
       "      <td>1</td>\n",
       "      <td>0</td>\n",
       "      <td>0</td>\n",
       "      <td>11.00</td>\n",
       "      <td>8.00</td>\n",
       "      <td>0.00</td>\n",
       "      <td>1.00</td>\n",
       "      <td>0.00</td>\n",
       "      <td>0.00</td>\n",
       "      <td>0.00</td>\n",
       "      <td>0.00</td>\n",
       "      <td>1.00</td>\n",
       "      <td>0.00</td>\n",
       "      <td>1</td>\n",
       "      <td>0</td>\n",
       "      <td>0</td>\n",
       "      <td>0</td>\n",
       "      <td>0</td>\n",
       "      <td>0</td>\n",
       "      <td>0</td>\n",
       "      <td>1</td>\n",
       "      <td>0</td>\n",
       "      <td>0</td>\n",
       "      <td>1.54</td>\n",
       "      <td>0.33</td>\n",
       "      <td>0.78</td>\n",
       "      <td>1.19</td>\n",
       "      <td>0.22</td>\n",
       "      <td>0.22</td>\n",
       "      <td>1.15</td>\n",
       "      <td>1.07</td>\n",
       "      <td>0.59</td>\n",
       "      <td>89773</td>\n",
       "      <td>71</td>\n",
       "      <td>145</td>\n",
       "      <td>170</td>\n",
       "      <td>14</td>\n",
       "      <td>16</td>\n",
       "      <td>14.00</td>\n",
       "      <td>16.00</td>\n",
       "      <td>1</td>\n",
       "      <td>0</td>\n",
       "      <td>0</td>\n",
       "      <td>0</td>\n",
       "      <td>1</td>\n",
       "      <td>0</td>\n",
       "      <td>1</td>\n",
       "      <td>0</td>\n",
       "      <td>7.00</td>\n",
       "      <td>40</td>\n",
       "      <td>2.35</td>\n",
       "      <td>0</td>\n",
       "      <td>1</td>\n",
       "      <td>0</td>\n",
       "      <td>0</td>\n",
       "      <td>0</td>\n",
       "      <td>0</td>\n",
       "      <td>1</td>\n",
       "      <td>0</td>\n",
       "      <td>0</td>\n",
       "      <td>0</td>\n",
       "      <td>1</td>\n",
       "      <td>0</td>\n",
       "      <td>0</td>\n",
       "      <td>1</td>\n",
       "      <td>0</td>\n",
       "      <td>0</td>\n",
       "    </tr>\n",
       "    <tr>\n",
       "      <th>5</th>\n",
       "      <td>2788</td>\n",
       "      <td>13.14</td>\n",
       "      <td>12</td>\n",
       "      <td>8.02</td>\n",
       "      <td>0</td>\n",
       "      <td>1</td>\n",
       "      <td>1983</td>\n",
       "      <td>28</td>\n",
       "      <td>25.00</td>\n",
       "      <td>97,400.00</td>\n",
       "      <td>612.00</td>\n",
       "      <td>1</td>\n",
       "      <td>0</td>\n",
       "      <td>0</td>\n",
       "      <td>0</td>\n",
       "      <td>0</td>\n",
       "      <td>0</td>\n",
       "      <td>0</td>\n",
       "      <td>1</td>\n",
       "      <td>0</td>\n",
       "      <td>0</td>\n",
       "      <td>0</td>\n",
       "      <td>0</td>\n",
       "      <td>1</td>\n",
       "      <td>0</td>\n",
       "      <td>0</td>\n",
       "      <td>0</td>\n",
       "      <td>0</td>\n",
       "      <td>0</td>\n",
       "      <td>1</td>\n",
       "      <td>0</td>\n",
       "      <td>0</td>\n",
       "      <td>5.00</td>\n",
       "      <td>3.00</td>\n",
       "      <td>1.00</td>\n",
       "      <td>0.00</td>\n",
       "      <td>0.00</td>\n",
       "      <td>0.00</td>\n",
       "      <td>0.00</td>\n",
       "      <td>0.00</td>\n",
       "      <td>1.00</td>\n",
       "      <td>0.00</td>\n",
       "      <td>0</td>\n",
       "      <td>0</td>\n",
       "      <td>1</td>\n",
       "      <td>0</td>\n",
       "      <td>0</td>\n",
       "      <td>1</td>\n",
       "      <td>0</td>\n",
       "      <td>0</td>\n",
       "      <td>0</td>\n",
       "      <td>0</td>\n",
       "      <td>0.72</td>\n",
       "      <td>1.01</td>\n",
       "      <td>0.80</td>\n",
       "      <td>1.11</td>\n",
       "      <td>-0.76</td>\n",
       "      <td>0.69</td>\n",
       "      <td>0.90</td>\n",
       "      <td>1.02</td>\n",
       "      <td>0.97</td>\n",
       "      <td>86885</td>\n",
       "      <td>66</td>\n",
       "      <td>220</td>\n",
       "      <td>245</td>\n",
       "      <td>13</td>\n",
       "      <td>13</td>\n",
       "      <td>13.00</td>\n",
       "      <td>13.00</td>\n",
       "      <td>1</td>\n",
       "      <td>0</td>\n",
       "      <td>1</td>\n",
       "      <td>0</td>\n",
       "      <td>0</td>\n",
       "      <td>1</td>\n",
       "      <td>0</td>\n",
       "      <td>0</td>\n",
       "      <td>2.00</td>\n",
       "      <td>50</td>\n",
       "      <td>4.25</td>\n",
       "      <td>0</td>\n",
       "      <td>1</td>\n",
       "      <td>0</td>\n",
       "      <td>0</td>\n",
       "      <td>0</td>\n",
       "      <td>0</td>\n",
       "      <td>1</td>\n",
       "      <td>0</td>\n",
       "      <td>1</td>\n",
       "      <td>0</td>\n",
       "      <td>0</td>\n",
       "      <td>0</td>\n",
       "      <td>0</td>\n",
       "      <td>1</td>\n",
       "      <td>0</td>\n",
       "      <td>0</td>\n",
       "    </tr>\n",
       "    <tr>\n",
       "      <th>6</th>\n",
       "      <td>3473</td>\n",
       "      <td>10.00</td>\n",
       "      <td>13</td>\n",
       "      <td>9.79</td>\n",
       "      <td>0</td>\n",
       "      <td>1</td>\n",
       "      <td>1983</td>\n",
       "      <td>28</td>\n",
       "      <td>23.00</td>\n",
       "      <td>70,751.00</td>\n",
       "      <td>445.00</td>\n",
       "      <td>1</td>\n",
       "      <td>0</td>\n",
       "      <td>0</td>\n",
       "      <td>0</td>\n",
       "      <td>0</td>\n",
       "      <td>0</td>\n",
       "      <td>0</td>\n",
       "      <td>1</td>\n",
       "      <td>0</td>\n",
       "      <td>0</td>\n",
       "      <td>0</td>\n",
       "      <td>0</td>\n",
       "      <td>1</td>\n",
       "      <td>0</td>\n",
       "      <td>0</td>\n",
       "      <td>0</td>\n",
       "      <td>0</td>\n",
       "      <td>0</td>\n",
       "      <td>1</td>\n",
       "      <td>0</td>\n",
       "      <td>0</td>\n",
       "      <td>3.00</td>\n",
       "      <td>5.00</td>\n",
       "      <td>0.00</td>\n",
       "      <td>1.00</td>\n",
       "      <td>0.00</td>\n",
       "      <td>0.00</td>\n",
       "      <td>0.00</td>\n",
       "      <td>1.00</td>\n",
       "      <td>0.00</td>\n",
       "      <td>0.00</td>\n",
       "      <td>1</td>\n",
       "      <td>0</td>\n",
       "      <td>0</td>\n",
       "      <td>0</td>\n",
       "      <td>0</td>\n",
       "      <td>1</td>\n",
       "      <td>0</td>\n",
       "      <td>0</td>\n",
       "      <td>0</td>\n",
       "      <td>0</td>\n",
       "      <td>-2.59</td>\n",
       "      <td>-0.68</td>\n",
       "      <td>-1.61</td>\n",
       "      <td>-0.93</td>\n",
       "      <td>-1.31</td>\n",
       "      <td>-0.01</td>\n",
       "      <td>-2.05</td>\n",
       "      <td>-1.62</td>\n",
       "      <td>-1.22</td>\n",
       "      <td>8396</td>\n",
       "      <td>69</td>\n",
       "      <td>154</td>\n",
       "      <td>150</td>\n",
       "      <td>12</td>\n",
       "      <td>16</td>\n",
       "      <td>12.00</td>\n",
       "      <td>16.00</td>\n",
       "      <td>1</td>\n",
       "      <td>0</td>\n",
       "      <td>0</td>\n",
       "      <td>1</td>\n",
       "      <td>0</td>\n",
       "      <td>0</td>\n",
       "      <td>1</td>\n",
       "      <td>0</td>\n",
       "      <td>3.00</td>\n",
       "      <td>30</td>\n",
       "      <td>8.08</td>\n",
       "      <td>0</td>\n",
       "      <td>0</td>\n",
       "      <td>0</td>\n",
       "      <td>1</td>\n",
       "      <td>0</td>\n",
       "      <td>0</td>\n",
       "      <td>1</td>\n",
       "      <td>0</td>\n",
       "      <td>0</td>\n",
       "      <td>1</td>\n",
       "      <td>0</td>\n",
       "      <td>0</td>\n",
       "      <td>1</td>\n",
       "      <td>0</td>\n",
       "      <td>0</td>\n",
       "      <td>0</td>\n",
       "    </tr>\n",
       "    <tr>\n",
       "      <th>8</th>\n",
       "      <td>1239</td>\n",
       "      <td>20.19</td>\n",
       "      <td>14</td>\n",
       "      <td>6.85</td>\n",
       "      <td>0</td>\n",
       "      <td>1</td>\n",
       "      <td>1983</td>\n",
       "      <td>28</td>\n",
       "      <td>25.00</td>\n",
       "      <td>246,474.00</td>\n",
       "      <td>1,627.00</td>\n",
       "      <td>1</td>\n",
       "      <td>0</td>\n",
       "      <td>0</td>\n",
       "      <td>0</td>\n",
       "      <td>0</td>\n",
       "      <td>0</td>\n",
       "      <td>0</td>\n",
       "      <td>1</td>\n",
       "      <td>0</td>\n",
       "      <td>0</td>\n",
       "      <td>0</td>\n",
       "      <td>0</td>\n",
       "      <td>1</td>\n",
       "      <td>0</td>\n",
       "      <td>0</td>\n",
       "      <td>0</td>\n",
       "      <td>0</td>\n",
       "      <td>0</td>\n",
       "      <td>1</td>\n",
       "      <td>0</td>\n",
       "      <td>0</td>\n",
       "      <td>10.00</td>\n",
       "      <td>6.00</td>\n",
       "      <td>1.00</td>\n",
       "      <td>0.00</td>\n",
       "      <td>0.00</td>\n",
       "      <td>0.00</td>\n",
       "      <td>1.00</td>\n",
       "      <td>0.00</td>\n",
       "      <td>0.00</td>\n",
       "      <td>0.00</td>\n",
       "      <td>0</td>\n",
       "      <td>1</td>\n",
       "      <td>0</td>\n",
       "      <td>0</td>\n",
       "      <td>0</td>\n",
       "      <td>1</td>\n",
       "      <td>0</td>\n",
       "      <td>0</td>\n",
       "      <td>0</td>\n",
       "      <td>0</td>\n",
       "      <td>1.86</td>\n",
       "      <td>1.69</td>\n",
       "      <td>2.24</td>\n",
       "      <td>1.09</td>\n",
       "      <td>0.87</td>\n",
       "      <td>0.56</td>\n",
       "      <td>2.10</td>\n",
       "      <td>1.93</td>\n",
       "      <td>2.10</td>\n",
       "      <td>98479</td>\n",
       "      <td>71</td>\n",
       "      <td>175</td>\n",
       "      <td>180</td>\n",
       "      <td>16</td>\n",
       "      <td>20</td>\n",
       "      <td>16.00</td>\n",
       "      <td>20.00</td>\n",
       "      <td>1</td>\n",
       "      <td>0</td>\n",
       "      <td>1</td>\n",
       "      <td>0</td>\n",
       "      <td>0</td>\n",
       "      <td>0</td>\n",
       "      <td>1</td>\n",
       "      <td>0</td>\n",
       "      <td>6.00</td>\n",
       "      <td>40</td>\n",
       "      <td>3.88</td>\n",
       "      <td>0</td>\n",
       "      <td>1</td>\n",
       "      <td>0</td>\n",
       "      <td>0</td>\n",
       "      <td>0</td>\n",
       "      <td>0</td>\n",
       "      <td>1</td>\n",
       "      <td>0</td>\n",
       "      <td>0</td>\n",
       "      <td>0</td>\n",
       "      <td>1</td>\n",
       "      <td>0</td>\n",
       "      <td>0</td>\n",
       "      <td>1</td>\n",
       "      <td>0</td>\n",
       "      <td>0</td>\n",
       "    </tr>\n",
       "  </tbody>\n",
       "</table>\n",
       "</div>"
      ],
      "text/plain": [
       "     id  earnings   s  exp  female  male  byear  age  agembth    hhinc97  \\\n",
       "0  4275     18.50  12 9.71       0     1   1984   27    24.00  64,000.00   \n",
       "4  1994     36.06  15 2.94       0     1   1984   27    23.00  44,188.00   \n",
       "5  2788     13.14  12 8.02       0     1   1983   28    25.00  97,400.00   \n",
       "6  3473     10.00  13 9.79       0     1   1983   28    23.00  70,751.00   \n",
       "8  1239     20.19  14 6.85       0     1   1983   28    25.00 246,474.00   \n",
       "\n",
       "   povrat97  hhbmbf  hhbmof  hhombf  hhbmonly  hhbfonly  hhother  msa97no  \\\n",
       "0    402.00       1       0       0         0         0        0        0   \n",
       "4    278.00       1       0       0         0         0        0        0   \n",
       "5    612.00       1       0       0         0         0        0        0   \n",
       "6    445.00       1       0       0         0         0        0        0   \n",
       "8  1,627.00       1       0       0         0         0        0        0   \n",
       "\n",
       "   msa97ncc  msa97cc  msa97nk  ethblack  ethhisp  ethwhite  educprof  educphd  \\\n",
       "0         0        1        0         0        0         1         0        0   \n",
       "4         0        1        0         0        0         1         0        0   \n",
       "5         1        0        0         0        0         1         0        0   \n",
       "6         1        0        0         0        0         1         0        0   \n",
       "8         1        0        0         0        0         1         0        0   \n",
       "\n",
       "   educmast  educba  educaa  educhsd  educged  educdo  prmonm  prmonf  \\\n",
       "0         0       0       0        1        0       0   14.00   14.00   \n",
       "4         0       0       0        1        0       0   11.00    8.00   \n",
       "5         0       0       0        1        0       0    5.00    3.00   \n",
       "6         0       0       0        1        0       0    3.00    5.00   \n",
       "8         0       0       0        1        0       0   10.00    6.00   \n",
       "\n",
       "   prmstyun  prmstype  prmstyan  prmstyae  prfstyun  prfstype  prfstyan  \\\n",
       "0      0.00      0.00      0.00      1.00      0.00      0.00      0.00   \n",
       "4      0.00      1.00      0.00      0.00      0.00      0.00      1.00   \n",
       "5      1.00      0.00      0.00      0.00      0.00      0.00      1.00   \n",
       "6      0.00      1.00      0.00      0.00      0.00      1.00      0.00   \n",
       "8      1.00      0.00      0.00      0.00      1.00      0.00      0.00   \n",
       "\n",
       "   prfstyae  single  married  cohabit  othsing  faithn  faithp  faithc  \\\n",
       "0      1.00       0        1        0        0       0       0       1   \n",
       "4      0.00       1        0        0        0       0       0       0   \n",
       "5      0.00       0        0        1        0       0       1       0   \n",
       "6      0.00       1        0        0        0       0       1       0   \n",
       "8      0.00       0        1        0        0       0       1       0   \n",
       "\n",
       "   faithj  faitho  faithm  asvabar  asvabwk  asvabpc  asvabmk  asvabno  \\\n",
       "0       0       0       0     0.12    -0.69    -0.31    -0.29    -0.36   \n",
       "4       1       0       0     1.54     0.33     0.78     1.19     0.22   \n",
       "5       0       0       0     0.72     1.01     0.80     1.11    -0.76   \n",
       "6       0       0       0    -2.59    -0.68    -1.61    -0.93    -1.31   \n",
       "8       0       0       0     1.86     1.69     2.24     1.09     0.87   \n",
       "\n",
       "   asvabcs  asvabc  asvabc4  verbal  asvabmv  height  weight04  weight11  sf  \\\n",
       "0    -0.72   -0.21    -0.32   -0.53    29818      70       155       186  12   \n",
       "4     0.22    1.15     1.07    0.59    89773      71       145       170  14   \n",
       "5     0.69    0.90     1.02    0.97    86885      66       220       245  13   \n",
       "6    -0.01   -2.05    -1.62   -1.22     8396      69       154       150  12   \n",
       "8     0.56    2.10     1.93    2.10    98479      71       175       180  16   \n",
       "\n",
       "   sm   sfr   smr  siblings  reg97ne  reg97nc  reg97s  reg97w  rs97rurl  \\\n",
       "0  12 12.00 12.00         1        0        0       1       0         0   \n",
       "4  16 14.00 16.00         1        0        0       0       1         0   \n",
       "5  13 13.00 13.00         1        0        1       0       0         1   \n",
       "6  16 12.00 16.00         1        0        0       1       0         0   \n",
       "8  20 16.00 20.00         1        0        1       0       0         0   \n",
       "\n",
       "   rs97urbn  rs97unkn  jobs  hours  tenure  catgov  catpri  catnpo  catmis  \\\n",
       "0         1         0  6.00     50    4.77       0       1       0       0   \n",
       "4         1         0  7.00     40    2.35       0       1       0       0   \n",
       "5         0         0  2.00     50    4.25       0       1       0       0   \n",
       "6         1         0  3.00     30    8.08       0       0       0       1   \n",
       "8         1         0  6.00     40    3.88       0       1       0       0   \n",
       "\n",
       "   catse  collbarg  urban  regne  regnc  regw  regs  msa11no  msa11ncc  \\\n",
       "0      0         0      1      0      0     1     0        0         0   \n",
       "4      0         0      1      0      0     0     1        0         0   \n",
       "5      0         0      1      0      1     0     0        0         0   \n",
       "6      0         0      1      0      0     1     0        0         1   \n",
       "8      0         0      1      0      0     0     1        0         0   \n",
       "\n",
       "   msa11cc  msa11nk  msa11nic  \n",
       "0        1        0         0  \n",
       "4        1        0         0  \n",
       "5        1        0         0  \n",
       "6        0        0         0  \n",
       "8        1        0         0  "
      ]
     },
     "execution_count": 10,
     "metadata": {},
     "output_type": "execute_result"
    }
   ],
   "source": [
    "df.columns = df.columns.str.lower()\n",
    "df.head()"
   ]
  },
  {
   "cell_type": "markdown",
   "metadata": {
    "id": "gGmBBPxZnVKC"
   },
   "source": [
    "## Descriptive Statistics"
   ]
  },
  {
   "cell_type": "code",
   "execution_count": 11,
   "metadata": {
    "id": "I5VP2BMVnVrt"
   },
   "outputs": [
    {
     "data": {
      "text/html": [
       "<div>\n",
       "<style scoped>\n",
       "    .dataframe tbody tr th:only-of-type {\n",
       "        vertical-align: middle;\n",
       "    }\n",
       "\n",
       "    .dataframe tbody tr th {\n",
       "        vertical-align: top;\n",
       "    }\n",
       "\n",
       "    .dataframe thead th {\n",
       "        text-align: right;\n",
       "    }\n",
       "</style>\n",
       "<table border=\"1\" class=\"dataframe\">\n",
       "  <thead>\n",
       "    <tr style=\"text-align: right;\">\n",
       "      <th></th>\n",
       "      <th>id</th>\n",
       "      <th>earnings</th>\n",
       "      <th>s</th>\n",
       "      <th>exp</th>\n",
       "      <th>female</th>\n",
       "      <th>male</th>\n",
       "      <th>byear</th>\n",
       "      <th>age</th>\n",
       "      <th>agembth</th>\n",
       "      <th>hhinc97</th>\n",
       "      <th>povrat97</th>\n",
       "      <th>hhbmbf</th>\n",
       "      <th>hhbmof</th>\n",
       "      <th>hhombf</th>\n",
       "      <th>hhbmonly</th>\n",
       "      <th>hhbfonly</th>\n",
       "      <th>hhother</th>\n",
       "      <th>msa97no</th>\n",
       "      <th>msa97ncc</th>\n",
       "      <th>msa97cc</th>\n",
       "      <th>msa97nk</th>\n",
       "      <th>ethblack</th>\n",
       "      <th>ethhisp</th>\n",
       "      <th>ethwhite</th>\n",
       "      <th>educprof</th>\n",
       "      <th>educphd</th>\n",
       "      <th>educmast</th>\n",
       "      <th>educba</th>\n",
       "      <th>educaa</th>\n",
       "      <th>educhsd</th>\n",
       "      <th>educged</th>\n",
       "      <th>educdo</th>\n",
       "      <th>prmonm</th>\n",
       "      <th>prmonf</th>\n",
       "      <th>prmstyun</th>\n",
       "      <th>prmstype</th>\n",
       "      <th>prmstyan</th>\n",
       "      <th>prmstyae</th>\n",
       "      <th>prfstyun</th>\n",
       "      <th>prfstype</th>\n",
       "      <th>prfstyan</th>\n",
       "      <th>prfstyae</th>\n",
       "      <th>single</th>\n",
       "      <th>married</th>\n",
       "      <th>cohabit</th>\n",
       "      <th>othsing</th>\n",
       "      <th>faithn</th>\n",
       "      <th>faithp</th>\n",
       "      <th>faithc</th>\n",
       "      <th>faithj</th>\n",
       "      <th>faitho</th>\n",
       "      <th>faithm</th>\n",
       "      <th>asvabar</th>\n",
       "      <th>asvabwk</th>\n",
       "      <th>asvabpc</th>\n",
       "      <th>asvabmk</th>\n",
       "      <th>asvabno</th>\n",
       "      <th>asvabcs</th>\n",
       "      <th>asvabc</th>\n",
       "      <th>asvabc4</th>\n",
       "      <th>verbal</th>\n",
       "      <th>asvabmv</th>\n",
       "      <th>height</th>\n",
       "      <th>weight04</th>\n",
       "      <th>weight11</th>\n",
       "      <th>sf</th>\n",
       "      <th>sm</th>\n",
       "      <th>sfr</th>\n",
       "      <th>smr</th>\n",
       "      <th>siblings</th>\n",
       "      <th>reg97ne</th>\n",
       "      <th>reg97nc</th>\n",
       "      <th>reg97s</th>\n",
       "      <th>reg97w</th>\n",
       "      <th>rs97rurl</th>\n",
       "      <th>rs97urbn</th>\n",
       "      <th>rs97unkn</th>\n",
       "      <th>jobs</th>\n",
       "      <th>hours</th>\n",
       "      <th>tenure</th>\n",
       "      <th>catgov</th>\n",
       "      <th>catpri</th>\n",
       "      <th>catnpo</th>\n",
       "      <th>catmis</th>\n",
       "      <th>catse</th>\n",
       "      <th>collbarg</th>\n",
       "      <th>urban</th>\n",
       "      <th>regne</th>\n",
       "      <th>regnc</th>\n",
       "      <th>regw</th>\n",
       "      <th>regs</th>\n",
       "      <th>msa11no</th>\n",
       "      <th>msa11ncc</th>\n",
       "      <th>msa11cc</th>\n",
       "      <th>msa11nk</th>\n",
       "      <th>msa11nic</th>\n",
       "    </tr>\n",
       "  </thead>\n",
       "  <tbody>\n",
       "    <tr>\n",
       "      <th>count</th>\n",
       "      <td>492.00</td>\n",
       "      <td>492.00</td>\n",
       "      <td>492.00</td>\n",
       "      <td>492.00</td>\n",
       "      <td>492.00</td>\n",
       "      <td>492.00</td>\n",
       "      <td>492.00</td>\n",
       "      <td>492.00</td>\n",
       "      <td>492.00</td>\n",
       "      <td>492.00</td>\n",
       "      <td>492.00</td>\n",
       "      <td>492.00</td>\n",
       "      <td>492.00</td>\n",
       "      <td>492.00</td>\n",
       "      <td>492.00</td>\n",
       "      <td>492.00</td>\n",
       "      <td>492.00</td>\n",
       "      <td>492.00</td>\n",
       "      <td>492.00</td>\n",
       "      <td>492.00</td>\n",
       "      <td>492.00</td>\n",
       "      <td>492.00</td>\n",
       "      <td>492.00</td>\n",
       "      <td>492.00</td>\n",
       "      <td>492.00</td>\n",
       "      <td>492.00</td>\n",
       "      <td>492.00</td>\n",
       "      <td>492.00</td>\n",
       "      <td>492.00</td>\n",
       "      <td>492.00</td>\n",
       "      <td>492.00</td>\n",
       "      <td>492.00</td>\n",
       "      <td>492.00</td>\n",
       "      <td>492.00</td>\n",
       "      <td>492.00</td>\n",
       "      <td>492.00</td>\n",
       "      <td>492.00</td>\n",
       "      <td>492.00</td>\n",
       "      <td>492.00</td>\n",
       "      <td>492.00</td>\n",
       "      <td>492.00</td>\n",
       "      <td>492.00</td>\n",
       "      <td>492.00</td>\n",
       "      <td>492.00</td>\n",
       "      <td>492.00</td>\n",
       "      <td>492.00</td>\n",
       "      <td>492.00</td>\n",
       "      <td>492.00</td>\n",
       "      <td>492.00</td>\n",
       "      <td>492.00</td>\n",
       "      <td>492.00</td>\n",
       "      <td>492.00</td>\n",
       "      <td>492.00</td>\n",
       "      <td>492.00</td>\n",
       "      <td>492.00</td>\n",
       "      <td>492.00</td>\n",
       "      <td>492.00</td>\n",
       "      <td>492.00</td>\n",
       "      <td>492.00</td>\n",
       "      <td>492.00</td>\n",
       "      <td>492.00</td>\n",
       "      <td>492.00</td>\n",
       "      <td>492.00</td>\n",
       "      <td>492.00</td>\n",
       "      <td>492.00</td>\n",
       "      <td>492.00</td>\n",
       "      <td>492.00</td>\n",
       "      <td>492.00</td>\n",
       "      <td>492.00</td>\n",
       "      <td>492.00</td>\n",
       "      <td>492.00</td>\n",
       "      <td>492.00</td>\n",
       "      <td>492.00</td>\n",
       "      <td>492.00</td>\n",
       "      <td>492.00</td>\n",
       "      <td>492.00</td>\n",
       "      <td>492.00</td>\n",
       "      <td>492.00</td>\n",
       "      <td>492.00</td>\n",
       "      <td>492.00</td>\n",
       "      <td>492.00</td>\n",
       "      <td>492.00</td>\n",
       "      <td>492.00</td>\n",
       "      <td>492.00</td>\n",
       "      <td>492.00</td>\n",
       "      <td>492.00</td>\n",
       "      <td>492.00</td>\n",
       "      <td>492.00</td>\n",
       "      <td>492.00</td>\n",
       "      <td>492.00</td>\n",
       "      <td>492.00</td>\n",
       "      <td>492.00</td>\n",
       "      <td>492.00</td>\n",
       "      <td>492.00</td>\n",
       "      <td>492.00</td>\n",
       "      <td>492.00</td>\n",
       "    </tr>\n",
       "    <tr>\n",
       "      <th>mean</th>\n",
       "      <td>3,530.57</td>\n",
       "      <td>19.13</td>\n",
       "      <td>14.89</td>\n",
       "      <td>5.92</td>\n",
       "      <td>0.49</td>\n",
       "      <td>0.51</td>\n",
       "      <td>1,982.98</td>\n",
       "      <td>28.02</td>\n",
       "      <td>26.74</td>\n",
       "      <td>66,732.78</td>\n",
       "      <td>403.47</td>\n",
       "      <td>0.89</td>\n",
       "      <td>0.09</td>\n",
       "      <td>0.02</td>\n",
       "      <td>0.00</td>\n",
       "      <td>0.00</td>\n",
       "      <td>0.00</td>\n",
       "      <td>0.21</td>\n",
       "      <td>0.55</td>\n",
       "      <td>0.23</td>\n",
       "      <td>0.00</td>\n",
       "      <td>0.07</td>\n",
       "      <td>0.10</td>\n",
       "      <td>0.83</td>\n",
       "      <td>0.02</td>\n",
       "      <td>0.00</td>\n",
       "      <td>0.09</td>\n",
       "      <td>0.36</td>\n",
       "      <td>0.08</td>\n",
       "      <td>0.37</td>\n",
       "      <td>0.06</td>\n",
       "      <td>0.03</td>\n",
       "      <td>10.05</td>\n",
       "      <td>7.56</td>\n",
       "      <td>0.14</td>\n",
       "      <td>0.38</td>\n",
       "      <td>0.14</td>\n",
       "      <td>0.34</td>\n",
       "      <td>0.15</td>\n",
       "      <td>0.33</td>\n",
       "      <td>0.19</td>\n",
       "      <td>0.32</td>\n",
       "      <td>0.36</td>\n",
       "      <td>0.41</td>\n",
       "      <td>0.17</td>\n",
       "      <td>0.05</td>\n",
       "      <td>0.02</td>\n",
       "      <td>0.60</td>\n",
       "      <td>0.35</td>\n",
       "      <td>0.01</td>\n",
       "      <td>0.02</td>\n",
       "      <td>0.01</td>\n",
       "      <td>0.33</td>\n",
       "      <td>0.26</td>\n",
       "      <td>0.26</td>\n",
       "      <td>0.30</td>\n",
       "      <td>0.17</td>\n",
       "      <td>0.24</td>\n",
       "      <td>0.32</td>\n",
       "      <td>0.32</td>\n",
       "      <td>0.28</td>\n",
       "      <td>60,033.84</td>\n",
       "      <td>68.03</td>\n",
       "      <td>164.29</td>\n",
       "      <td>177.98</td>\n",
       "      <td>13.71</td>\n",
       "      <td>13.59</td>\n",
       "      <td>13.84</td>\n",
       "      <td>13.57</td>\n",
       "      <td>1.96</td>\n",
       "      <td>0.15</td>\n",
       "      <td>0.36</td>\n",
       "      <td>0.29</td>\n",
       "      <td>0.19</td>\n",
       "      <td>0.32</td>\n",
       "      <td>0.68</td>\n",
       "      <td>0.00</td>\n",
       "      <td>5.32</td>\n",
       "      <td>39.87</td>\n",
       "      <td>3.37</td>\n",
       "      <td>0.13</td>\n",
       "      <td>0.74</td>\n",
       "      <td>0.08</td>\n",
       "      <td>0.05</td>\n",
       "      <td>0.06</td>\n",
       "      <td>0.12</td>\n",
       "      <td>0.75</td>\n",
       "      <td>0.13</td>\n",
       "      <td>0.31</td>\n",
       "      <td>0.35</td>\n",
       "      <td>0.21</td>\n",
       "      <td>0.05</td>\n",
       "      <td>0.54</td>\n",
       "      <td>0.41</td>\n",
       "      <td>0.00</td>\n",
       "      <td>0.00</td>\n",
       "    </tr>\n",
       "    <tr>\n",
       "      <th>std</th>\n",
       "      <td>1,948.08</td>\n",
       "      <td>11.54</td>\n",
       "      <td>2.69</td>\n",
       "      <td>2.51</td>\n",
       "      <td>0.50</td>\n",
       "      <td>0.50</td>\n",
       "      <td>0.82</td>\n",
       "      <td>0.82</td>\n",
       "      <td>4.71</td>\n",
       "      <td>44,951.87</td>\n",
       "      <td>306.14</td>\n",
       "      <td>0.32</td>\n",
       "      <td>0.29</td>\n",
       "      <td>0.14</td>\n",
       "      <td>0.00</td>\n",
       "      <td>0.00</td>\n",
       "      <td>0.05</td>\n",
       "      <td>0.41</td>\n",
       "      <td>0.50</td>\n",
       "      <td>0.42</td>\n",
       "      <td>0.00</td>\n",
       "      <td>0.26</td>\n",
       "      <td>0.29</td>\n",
       "      <td>0.37</td>\n",
       "      <td>0.13</td>\n",
       "      <td>0.05</td>\n",
       "      <td>0.29</td>\n",
       "      <td>0.48</td>\n",
       "      <td>0.27</td>\n",
       "      <td>0.48</td>\n",
       "      <td>0.23</td>\n",
       "      <td>0.17</td>\n",
       "      <td>2.95</td>\n",
       "      <td>3.61</td>\n",
       "      <td>0.35</td>\n",
       "      <td>0.49</td>\n",
       "      <td>0.35</td>\n",
       "      <td>0.47</td>\n",
       "      <td>0.36</td>\n",
       "      <td>0.47</td>\n",
       "      <td>0.40</td>\n",
       "      <td>0.47</td>\n",
       "      <td>0.48</td>\n",
       "      <td>0.49</td>\n",
       "      <td>0.38</td>\n",
       "      <td>0.23</td>\n",
       "      <td>0.14</td>\n",
       "      <td>0.49</td>\n",
       "      <td>0.48</td>\n",
       "      <td>0.10</td>\n",
       "      <td>0.14</td>\n",
       "      <td>0.08</td>\n",
       "      <td>0.88</td>\n",
       "      <td>0.84</td>\n",
       "      <td>0.92</td>\n",
       "      <td>0.88</td>\n",
       "      <td>0.93</td>\n",
       "      <td>0.90</td>\n",
       "      <td>0.87</td>\n",
       "      <td>0.86</td>\n",
       "      <td>0.88</td>\n",
       "      <td>26,528.00</td>\n",
       "      <td>4.16</td>\n",
       "      <td>39.41</td>\n",
       "      <td>46.16</td>\n",
       "      <td>2.92</td>\n",
       "      <td>2.55</td>\n",
       "      <td>2.89</td>\n",
       "      <td>2.55</td>\n",
       "      <td>1.44</td>\n",
       "      <td>0.36</td>\n",
       "      <td>0.48</td>\n",
       "      <td>0.45</td>\n",
       "      <td>0.40</td>\n",
       "      <td>0.47</td>\n",
       "      <td>0.47</td>\n",
       "      <td>0.00</td>\n",
       "      <td>2.82</td>\n",
       "      <td>10.49</td>\n",
       "      <td>2.30</td>\n",
       "      <td>0.34</td>\n",
       "      <td>0.44</td>\n",
       "      <td>0.27</td>\n",
       "      <td>0.22</td>\n",
       "      <td>0.24</td>\n",
       "      <td>0.33</td>\n",
       "      <td>0.44</td>\n",
       "      <td>0.33</td>\n",
       "      <td>0.46</td>\n",
       "      <td>0.48</td>\n",
       "      <td>0.41</td>\n",
       "      <td>0.22</td>\n",
       "      <td>0.50</td>\n",
       "      <td>0.49</td>\n",
       "      <td>0.05</td>\n",
       "      <td>0.00</td>\n",
       "    </tr>\n",
       "    <tr>\n",
       "      <th>min</th>\n",
       "      <td>28.00</td>\n",
       "      <td>2.13</td>\n",
       "      <td>8.00</td>\n",
       "      <td>0.00</td>\n",
       "      <td>0.00</td>\n",
       "      <td>0.00</td>\n",
       "      <td>1,982.00</td>\n",
       "      <td>27.00</td>\n",
       "      <td>17.00</td>\n",
       "      <td>0.00</td>\n",
       "      <td>0.00</td>\n",
       "      <td>0.00</td>\n",
       "      <td>0.00</td>\n",
       "      <td>0.00</td>\n",
       "      <td>0.00</td>\n",
       "      <td>0.00</td>\n",
       "      <td>0.00</td>\n",
       "      <td>0.00</td>\n",
       "      <td>0.00</td>\n",
       "      <td>0.00</td>\n",
       "      <td>0.00</td>\n",
       "      <td>0.00</td>\n",
       "      <td>0.00</td>\n",
       "      <td>0.00</td>\n",
       "      <td>0.00</td>\n",
       "      <td>0.00</td>\n",
       "      <td>0.00</td>\n",
       "      <td>0.00</td>\n",
       "      <td>0.00</td>\n",
       "      <td>0.00</td>\n",
       "      <td>0.00</td>\n",
       "      <td>0.00</td>\n",
       "      <td>0.00</td>\n",
       "      <td>0.00</td>\n",
       "      <td>0.00</td>\n",
       "      <td>0.00</td>\n",
       "      <td>0.00</td>\n",
       "      <td>0.00</td>\n",
       "      <td>0.00</td>\n",
       "      <td>0.00</td>\n",
       "      <td>0.00</td>\n",
       "      <td>0.00</td>\n",
       "      <td>0.00</td>\n",
       "      <td>0.00</td>\n",
       "      <td>0.00</td>\n",
       "      <td>0.00</td>\n",
       "      <td>0.00</td>\n",
       "      <td>0.00</td>\n",
       "      <td>0.00</td>\n",
       "      <td>0.00</td>\n",
       "      <td>0.00</td>\n",
       "      <td>0.00</td>\n",
       "      <td>-2.59</td>\n",
       "      <td>-2.45</td>\n",
       "      <td>-2.12</td>\n",
       "      <td>-2.42</td>\n",
       "      <td>-3.87</td>\n",
       "      <td>-3.77</td>\n",
       "      <td>-2.43</td>\n",
       "      <td>-2.31</td>\n",
       "      <td>-2.31</td>\n",
       "      <td>281.00</td>\n",
       "      <td>59.00</td>\n",
       "      <td>96.00</td>\n",
       "      <td>95.00</td>\n",
       "      <td>4.00</td>\n",
       "      <td>4.00</td>\n",
       "      <td>4.00</td>\n",
       "      <td>4.00</td>\n",
       "      <td>0.00</td>\n",
       "      <td>0.00</td>\n",
       "      <td>0.00</td>\n",
       "      <td>0.00</td>\n",
       "      <td>0.00</td>\n",
       "      <td>0.00</td>\n",
       "      <td>0.00</td>\n",
       "      <td>0.00</td>\n",
       "      <td>1.00</td>\n",
       "      <td>10.00</td>\n",
       "      <td>0.13</td>\n",
       "      <td>0.00</td>\n",
       "      <td>0.00</td>\n",
       "      <td>0.00</td>\n",
       "      <td>0.00</td>\n",
       "      <td>0.00</td>\n",
       "      <td>0.00</td>\n",
       "      <td>0.00</td>\n",
       "      <td>0.00</td>\n",
       "      <td>0.00</td>\n",
       "      <td>0.00</td>\n",
       "      <td>0.00</td>\n",
       "      <td>0.00</td>\n",
       "      <td>0.00</td>\n",
       "      <td>0.00</td>\n",
       "      <td>0.00</td>\n",
       "      <td>0.00</td>\n",
       "    </tr>\n",
       "    <tr>\n",
       "      <th>25%</th>\n",
       "      <td>1,833.25</td>\n",
       "      <td>12.00</td>\n",
       "      <td>12.00</td>\n",
       "      <td>4.24</td>\n",
       "      <td>0.00</td>\n",
       "      <td>0.00</td>\n",
       "      <td>1,982.00</td>\n",
       "      <td>27.00</td>\n",
       "      <td>24.00</td>\n",
       "      <td>40,725.00</td>\n",
       "      <td>223.75</td>\n",
       "      <td>1.00</td>\n",
       "      <td>0.00</td>\n",
       "      <td>0.00</td>\n",
       "      <td>0.00</td>\n",
       "      <td>0.00</td>\n",
       "      <td>0.00</td>\n",
       "      <td>0.00</td>\n",
       "      <td>0.00</td>\n",
       "      <td>0.00</td>\n",
       "      <td>0.00</td>\n",
       "      <td>0.00</td>\n",
       "      <td>0.00</td>\n",
       "      <td>1.00</td>\n",
       "      <td>0.00</td>\n",
       "      <td>0.00</td>\n",
       "      <td>0.00</td>\n",
       "      <td>0.00</td>\n",
       "      <td>0.00</td>\n",
       "      <td>0.00</td>\n",
       "      <td>0.00</td>\n",
       "      <td>0.00</td>\n",
       "      <td>8.00</td>\n",
       "      <td>5.00</td>\n",
       "      <td>0.00</td>\n",
       "      <td>0.00</td>\n",
       "      <td>0.00</td>\n",
       "      <td>0.00</td>\n",
       "      <td>0.00</td>\n",
       "      <td>0.00</td>\n",
       "      <td>0.00</td>\n",
       "      <td>0.00</td>\n",
       "      <td>0.00</td>\n",
       "      <td>0.00</td>\n",
       "      <td>0.00</td>\n",
       "      <td>0.00</td>\n",
       "      <td>0.00</td>\n",
       "      <td>0.00</td>\n",
       "      <td>0.00</td>\n",
       "      <td>0.00</td>\n",
       "      <td>0.00</td>\n",
       "      <td>0.00</td>\n",
       "      <td>-0.15</td>\n",
       "      <td>-0.36</td>\n",
       "      <td>-0.31</td>\n",
       "      <td>-0.24</td>\n",
       "      <td>-0.41</td>\n",
       "      <td>-0.38</td>\n",
       "      <td>-0.17</td>\n",
       "      <td>-0.18</td>\n",
       "      <td>-0.32</td>\n",
       "      <td>41,179.50</td>\n",
       "      <td>64.00</td>\n",
       "      <td>135.00</td>\n",
       "      <td>141.50</td>\n",
       "      <td>12.00</td>\n",
       "      <td>12.00</td>\n",
       "      <td>12.00</td>\n",
       "      <td>12.00</td>\n",
       "      <td>1.00</td>\n",
       "      <td>0.00</td>\n",
       "      <td>0.00</td>\n",
       "      <td>0.00</td>\n",
       "      <td>0.00</td>\n",
       "      <td>0.00</td>\n",
       "      <td>0.00</td>\n",
       "      <td>0.00</td>\n",
       "      <td>3.00</td>\n",
       "      <td>40.00</td>\n",
       "      <td>1.27</td>\n",
       "      <td>0.00</td>\n",
       "      <td>0.00</td>\n",
       "      <td>0.00</td>\n",
       "      <td>0.00</td>\n",
       "      <td>0.00</td>\n",
       "      <td>0.00</td>\n",
       "      <td>0.00</td>\n",
       "      <td>0.00</td>\n",
       "      <td>0.00</td>\n",
       "      <td>0.00</td>\n",
       "      <td>0.00</td>\n",
       "      <td>0.00</td>\n",
       "      <td>0.00</td>\n",
       "      <td>0.00</td>\n",
       "      <td>0.00</td>\n",
       "      <td>0.00</td>\n",
       "    </tr>\n",
       "    <tr>\n",
       "      <th>50%</th>\n",
       "      <td>3,470.50</td>\n",
       "      <td>16.00</td>\n",
       "      <td>16.00</td>\n",
       "      <td>5.75</td>\n",
       "      <td>0.00</td>\n",
       "      <td>1.00</td>\n",
       "      <td>1,983.00</td>\n",
       "      <td>28.00</td>\n",
       "      <td>26.00</td>\n",
       "      <td>58,027.50</td>\n",
       "      <td>333.00</td>\n",
       "      <td>1.00</td>\n",
       "      <td>0.00</td>\n",
       "      <td>0.00</td>\n",
       "      <td>0.00</td>\n",
       "      <td>0.00</td>\n",
       "      <td>0.00</td>\n",
       "      <td>0.00</td>\n",
       "      <td>1.00</td>\n",
       "      <td>0.00</td>\n",
       "      <td>0.00</td>\n",
       "      <td>0.00</td>\n",
       "      <td>0.00</td>\n",
       "      <td>1.00</td>\n",
       "      <td>0.00</td>\n",
       "      <td>0.00</td>\n",
       "      <td>0.00</td>\n",
       "      <td>0.00</td>\n",
       "      <td>0.00</td>\n",
       "      <td>0.00</td>\n",
       "      <td>0.00</td>\n",
       "      <td>0.00</td>\n",
       "      <td>10.00</td>\n",
       "      <td>8.00</td>\n",
       "      <td>0.00</td>\n",
       "      <td>0.00</td>\n",
       "      <td>0.00</td>\n",
       "      <td>0.00</td>\n",
       "      <td>0.00</td>\n",
       "      <td>0.00</td>\n",
       "      <td>0.00</td>\n",
       "      <td>0.00</td>\n",
       "      <td>0.00</td>\n",
       "      <td>0.00</td>\n",
       "      <td>0.00</td>\n",
       "      <td>0.00</td>\n",
       "      <td>0.00</td>\n",
       "      <td>1.00</td>\n",
       "      <td>0.00</td>\n",
       "      <td>0.00</td>\n",
       "      <td>0.00</td>\n",
       "      <td>0.00</td>\n",
       "      <td>0.37</td>\n",
       "      <td>0.38</td>\n",
       "      <td>0.30</td>\n",
       "      <td>0.36</td>\n",
       "      <td>0.21</td>\n",
       "      <td>0.26</td>\n",
       "      <td>0.36</td>\n",
       "      <td>0.39</td>\n",
       "      <td>0.35</td>\n",
       "      <td>63,057.00</td>\n",
       "      <td>68.00</td>\n",
       "      <td>158.00</td>\n",
       "      <td>170.00</td>\n",
       "      <td>13.00</td>\n",
       "      <td>13.00</td>\n",
       "      <td>14.00</td>\n",
       "      <td>13.00</td>\n",
       "      <td>2.00</td>\n",
       "      <td>0.00</td>\n",
       "      <td>0.00</td>\n",
       "      <td>0.00</td>\n",
       "      <td>0.00</td>\n",
       "      <td>0.00</td>\n",
       "      <td>1.00</td>\n",
       "      <td>0.00</td>\n",
       "      <td>5.00</td>\n",
       "      <td>40.00</td>\n",
       "      <td>3.15</td>\n",
       "      <td>0.00</td>\n",
       "      <td>1.00</td>\n",
       "      <td>0.00</td>\n",
       "      <td>0.00</td>\n",
       "      <td>0.00</td>\n",
       "      <td>0.00</td>\n",
       "      <td>1.00</td>\n",
       "      <td>0.00</td>\n",
       "      <td>0.00</td>\n",
       "      <td>0.00</td>\n",
       "      <td>0.00</td>\n",
       "      <td>0.00</td>\n",
       "      <td>1.00</td>\n",
       "      <td>0.00</td>\n",
       "      <td>0.00</td>\n",
       "      <td>0.00</td>\n",
       "    </tr>\n",
       "    <tr>\n",
       "      <th>75%</th>\n",
       "      <td>5,186.75</td>\n",
       "      <td>24.04</td>\n",
       "      <td>17.00</td>\n",
       "      <td>7.75</td>\n",
       "      <td>1.00</td>\n",
       "      <td>1.00</td>\n",
       "      <td>1,984.00</td>\n",
       "      <td>29.00</td>\n",
       "      <td>30.00</td>\n",
       "      <td>77,432.50</td>\n",
       "      <td>468.50</td>\n",
       "      <td>1.00</td>\n",
       "      <td>0.00</td>\n",
       "      <td>0.00</td>\n",
       "      <td>0.00</td>\n",
       "      <td>0.00</td>\n",
       "      <td>0.00</td>\n",
       "      <td>0.00</td>\n",
       "      <td>1.00</td>\n",
       "      <td>0.00</td>\n",
       "      <td>0.00</td>\n",
       "      <td>0.00</td>\n",
       "      <td>0.00</td>\n",
       "      <td>1.00</td>\n",
       "      <td>0.00</td>\n",
       "      <td>0.00</td>\n",
       "      <td>0.00</td>\n",
       "      <td>1.00</td>\n",
       "      <td>0.00</td>\n",
       "      <td>1.00</td>\n",
       "      <td>0.00</td>\n",
       "      <td>0.00</td>\n",
       "      <td>12.00</td>\n",
       "      <td>10.00</td>\n",
       "      <td>0.00</td>\n",
       "      <td>1.00</td>\n",
       "      <td>0.00</td>\n",
       "      <td>1.00</td>\n",
       "      <td>0.00</td>\n",
       "      <td>1.00</td>\n",
       "      <td>0.00</td>\n",
       "      <td>1.00</td>\n",
       "      <td>1.00</td>\n",
       "      <td>1.00</td>\n",
       "      <td>0.00</td>\n",
       "      <td>0.00</td>\n",
       "      <td>0.00</td>\n",
       "      <td>1.00</td>\n",
       "      <td>1.00</td>\n",
       "      <td>0.00</td>\n",
       "      <td>0.00</td>\n",
       "      <td>0.00</td>\n",
       "      <td>0.86</td>\n",
       "      <td>0.86</td>\n",
       "      <td>0.93</td>\n",
       "      <td>0.92</td>\n",
       "      <td>0.79</td>\n",
       "      <td>0.84</td>\n",
       "      <td>0.96</td>\n",
       "      <td>0.95</td>\n",
       "      <td>0.93</td>\n",
       "      <td>82,943.00</td>\n",
       "      <td>71.00</td>\n",
       "      <td>185.00</td>\n",
       "      <td>200.00</td>\n",
       "      <td>16.00</td>\n",
       "      <td>16.00</td>\n",
       "      <td>16.00</td>\n",
       "      <td>16.00</td>\n",
       "      <td>3.00</td>\n",
       "      <td>0.00</td>\n",
       "      <td>1.00</td>\n",
       "      <td>1.00</td>\n",
       "      <td>0.00</td>\n",
       "      <td>1.00</td>\n",
       "      <td>1.00</td>\n",
       "      <td>0.00</td>\n",
       "      <td>7.00</td>\n",
       "      <td>42.00</td>\n",
       "      <td>4.99</td>\n",
       "      <td>0.00</td>\n",
       "      <td>1.00</td>\n",
       "      <td>0.00</td>\n",
       "      <td>0.00</td>\n",
       "      <td>0.00</td>\n",
       "      <td>0.00</td>\n",
       "      <td>1.00</td>\n",
       "      <td>0.00</td>\n",
       "      <td>1.00</td>\n",
       "      <td>1.00</td>\n",
       "      <td>0.00</td>\n",
       "      <td>0.00</td>\n",
       "      <td>1.00</td>\n",
       "      <td>1.00</td>\n",
       "      <td>0.00</td>\n",
       "      <td>0.00</td>\n",
       "    </tr>\n",
       "    <tr>\n",
       "      <th>max</th>\n",
       "      <td>8,978.00</td>\n",
       "      <td>123.08</td>\n",
       "      <td>20.00</td>\n",
       "      <td>12.33</td>\n",
       "      <td>1.00</td>\n",
       "      <td>1.00</td>\n",
       "      <td>1,984.00</td>\n",
       "      <td>29.00</td>\n",
       "      <td>41.00</td>\n",
       "      <td>246,474.00</td>\n",
       "      <td>1,627.00</td>\n",
       "      <td>1.00</td>\n",
       "      <td>1.00</td>\n",
       "      <td>1.00</td>\n",
       "      <td>0.00</td>\n",
       "      <td>0.00</td>\n",
       "      <td>1.00</td>\n",
       "      <td>1.00</td>\n",
       "      <td>1.00</td>\n",
       "      <td>1.00</td>\n",
       "      <td>0.00</td>\n",
       "      <td>1.00</td>\n",
       "      <td>1.00</td>\n",
       "      <td>1.00</td>\n",
       "      <td>1.00</td>\n",
       "      <td>1.00</td>\n",
       "      <td>1.00</td>\n",
       "      <td>1.00</td>\n",
       "      <td>1.00</td>\n",
       "      <td>1.00</td>\n",
       "      <td>1.00</td>\n",
       "      <td>1.00</td>\n",
       "      <td>16.00</td>\n",
       "      <td>16.00</td>\n",
       "      <td>1.00</td>\n",
       "      <td>1.00</td>\n",
       "      <td>1.00</td>\n",
       "      <td>1.00</td>\n",
       "      <td>1.00</td>\n",
       "      <td>1.00</td>\n",
       "      <td>1.00</td>\n",
       "      <td>1.00</td>\n",
       "      <td>1.00</td>\n",
       "      <td>1.00</td>\n",
       "      <td>1.00</td>\n",
       "      <td>1.00</td>\n",
       "      <td>1.00</td>\n",
       "      <td>1.00</td>\n",
       "      <td>1.00</td>\n",
       "      <td>1.00</td>\n",
       "      <td>1.00</td>\n",
       "      <td>1.00</td>\n",
       "      <td>2.47</td>\n",
       "      <td>2.62</td>\n",
       "      <td>2.28</td>\n",
       "      <td>2.62</td>\n",
       "      <td>3.61</td>\n",
       "      <td>2.98</td>\n",
       "      <td>2.26</td>\n",
       "      <td>2.50</td>\n",
       "      <td>2.38</td>\n",
       "      <td>100,000.00</td>\n",
       "      <td>80.00</td>\n",
       "      <td>314.00</td>\n",
       "      <td>350.00</td>\n",
       "      <td>20.00</td>\n",
       "      <td>20.00</td>\n",
       "      <td>20.00</td>\n",
       "      <td>20.00</td>\n",
       "      <td>14.00</td>\n",
       "      <td>1.00</td>\n",
       "      <td>1.00</td>\n",
       "      <td>1.00</td>\n",
       "      <td>1.00</td>\n",
       "      <td>1.00</td>\n",
       "      <td>1.00</td>\n",
       "      <td>0.00</td>\n",
       "      <td>16.00</td>\n",
       "      <td>80.00</td>\n",
       "      <td>9.71</td>\n",
       "      <td>1.00</td>\n",
       "      <td>1.00</td>\n",
       "      <td>1.00</td>\n",
       "      <td>1.00</td>\n",
       "      <td>1.00</td>\n",
       "      <td>1.00</td>\n",
       "      <td>2.00</td>\n",
       "      <td>1.00</td>\n",
       "      <td>1.00</td>\n",
       "      <td>1.00</td>\n",
       "      <td>1.00</td>\n",
       "      <td>1.00</td>\n",
       "      <td>1.00</td>\n",
       "      <td>1.00</td>\n",
       "      <td>1.00</td>\n",
       "      <td>0.00</td>\n",
       "    </tr>\n",
       "  </tbody>\n",
       "</table>\n",
       "</div>"
      ],
      "text/plain": [
       "            id  earnings      s    exp  female   male    byear    age  \\\n",
       "count   492.00    492.00 492.00 492.00  492.00 492.00   492.00 492.00   \n",
       "mean  3,530.57     19.13  14.89   5.92    0.49   0.51 1,982.98  28.02   \n",
       "std   1,948.08     11.54   2.69   2.51    0.50   0.50     0.82   0.82   \n",
       "min      28.00      2.13   8.00   0.00    0.00   0.00 1,982.00  27.00   \n",
       "25%   1,833.25     12.00  12.00   4.24    0.00   0.00 1,982.00  27.00   \n",
       "50%   3,470.50     16.00  16.00   5.75    0.00   1.00 1,983.00  28.00   \n",
       "75%   5,186.75     24.04  17.00   7.75    1.00   1.00 1,984.00  29.00   \n",
       "max   8,978.00    123.08  20.00  12.33    1.00   1.00 1,984.00  29.00   \n",
       "\n",
       "       agembth    hhinc97  povrat97  hhbmbf  hhbmof  hhombf  hhbmonly  \\\n",
       "count   492.00     492.00    492.00  492.00  492.00  492.00    492.00   \n",
       "mean     26.74  66,732.78    403.47    0.89    0.09    0.02      0.00   \n",
       "std       4.71  44,951.87    306.14    0.32    0.29    0.14      0.00   \n",
       "min      17.00       0.00      0.00    0.00    0.00    0.00      0.00   \n",
       "25%      24.00  40,725.00    223.75    1.00    0.00    0.00      0.00   \n",
       "50%      26.00  58,027.50    333.00    1.00    0.00    0.00      0.00   \n",
       "75%      30.00  77,432.50    468.50    1.00    0.00    0.00      0.00   \n",
       "max      41.00 246,474.00  1,627.00    1.00    1.00    1.00      0.00   \n",
       "\n",
       "       hhbfonly  hhother  msa97no  msa97ncc  msa97cc  msa97nk  ethblack  \\\n",
       "count    492.00   492.00   492.00    492.00   492.00   492.00    492.00   \n",
       "mean       0.00     0.00     0.21      0.55     0.23     0.00      0.07   \n",
       "std        0.00     0.05     0.41      0.50     0.42     0.00      0.26   \n",
       "min        0.00     0.00     0.00      0.00     0.00     0.00      0.00   \n",
       "25%        0.00     0.00     0.00      0.00     0.00     0.00      0.00   \n",
       "50%        0.00     0.00     0.00      1.00     0.00     0.00      0.00   \n",
       "75%        0.00     0.00     0.00      1.00     0.00     0.00      0.00   \n",
       "max        0.00     1.00     1.00      1.00     1.00     0.00      1.00   \n",
       "\n",
       "       ethhisp  ethwhite  educprof  educphd  educmast  educba  educaa  \\\n",
       "count   492.00    492.00    492.00   492.00    492.00  492.00  492.00   \n",
       "mean      0.10      0.83      0.02     0.00      0.09    0.36    0.08   \n",
       "std       0.29      0.37      0.13     0.05      0.29    0.48    0.27   \n",
       "min       0.00      0.00      0.00     0.00      0.00    0.00    0.00   \n",
       "25%       0.00      1.00      0.00     0.00      0.00    0.00    0.00   \n",
       "50%       0.00      1.00      0.00     0.00      0.00    0.00    0.00   \n",
       "75%       0.00      1.00      0.00     0.00      0.00    1.00    0.00   \n",
       "max       1.00      1.00      1.00     1.00      1.00    1.00    1.00   \n",
       "\n",
       "       educhsd  educged  educdo  prmonm  prmonf  prmstyun  prmstype  prmstyan  \\\n",
       "count   492.00   492.00  492.00  492.00  492.00    492.00    492.00    492.00   \n",
       "mean      0.37     0.06    0.03   10.05    7.56      0.14      0.38      0.14   \n",
       "std       0.48     0.23    0.17    2.95    3.61      0.35      0.49      0.35   \n",
       "min       0.00     0.00    0.00    0.00    0.00      0.00      0.00      0.00   \n",
       "25%       0.00     0.00    0.00    8.00    5.00      0.00      0.00      0.00   \n",
       "50%       0.00     0.00    0.00   10.00    8.00      0.00      0.00      0.00   \n",
       "75%       1.00     0.00    0.00   12.00   10.00      0.00      1.00      0.00   \n",
       "max       1.00     1.00    1.00   16.00   16.00      1.00      1.00      1.00   \n",
       "\n",
       "       prmstyae  prfstyun  prfstype  prfstyan  prfstyae  single  married  \\\n",
       "count    492.00    492.00    492.00    492.00    492.00  492.00   492.00   \n",
       "mean       0.34      0.15      0.33      0.19      0.32    0.36     0.41   \n",
       "std        0.47      0.36      0.47      0.40      0.47    0.48     0.49   \n",
       "min        0.00      0.00      0.00      0.00      0.00    0.00     0.00   \n",
       "25%        0.00      0.00      0.00      0.00      0.00    0.00     0.00   \n",
       "50%        0.00      0.00      0.00      0.00      0.00    0.00     0.00   \n",
       "75%        1.00      0.00      1.00      0.00      1.00    1.00     1.00   \n",
       "max        1.00      1.00      1.00      1.00      1.00    1.00     1.00   \n",
       "\n",
       "       cohabit  othsing  faithn  faithp  faithc  faithj  faitho  faithm  \\\n",
       "count   492.00   492.00  492.00  492.00  492.00  492.00  492.00  492.00   \n",
       "mean      0.17     0.05    0.02    0.60    0.35    0.01    0.02    0.01   \n",
       "std       0.38     0.23    0.14    0.49    0.48    0.10    0.14    0.08   \n",
       "min       0.00     0.00    0.00    0.00    0.00    0.00    0.00    0.00   \n",
       "25%       0.00     0.00    0.00    0.00    0.00    0.00    0.00    0.00   \n",
       "50%       0.00     0.00    0.00    1.00    0.00    0.00    0.00    0.00   \n",
       "75%       0.00     0.00    0.00    1.00    1.00    0.00    0.00    0.00   \n",
       "max       1.00     1.00    1.00    1.00    1.00    1.00    1.00    1.00   \n",
       "\n",
       "       asvabar  asvabwk  asvabpc  asvabmk  asvabno  asvabcs  asvabc  asvabc4  \\\n",
       "count   492.00   492.00   492.00   492.00   492.00   492.00  492.00   492.00   \n",
       "mean      0.33     0.26     0.26     0.30     0.17     0.24    0.32     0.32   \n",
       "std       0.88     0.84     0.92     0.88     0.93     0.90    0.87     0.86   \n",
       "min      -2.59    -2.45    -2.12    -2.42    -3.87    -3.77   -2.43    -2.31   \n",
       "25%      -0.15    -0.36    -0.31    -0.24    -0.41    -0.38   -0.17    -0.18   \n",
       "50%       0.37     0.38     0.30     0.36     0.21     0.26    0.36     0.39   \n",
       "75%       0.86     0.86     0.93     0.92     0.79     0.84    0.96     0.95   \n",
       "max       2.47     2.62     2.28     2.62     3.61     2.98    2.26     2.50   \n",
       "\n",
       "       verbal    asvabmv  height  weight04  weight11     sf     sm    sfr  \\\n",
       "count  492.00     492.00  492.00    492.00    492.00 492.00 492.00 492.00   \n",
       "mean     0.28  60,033.84   68.03    164.29    177.98  13.71  13.59  13.84   \n",
       "std      0.88  26,528.00    4.16     39.41     46.16   2.92   2.55   2.89   \n",
       "min     -2.31     281.00   59.00     96.00     95.00   4.00   4.00   4.00   \n",
       "25%     -0.32  41,179.50   64.00    135.00    141.50  12.00  12.00  12.00   \n",
       "50%      0.35  63,057.00   68.00    158.00    170.00  13.00  13.00  14.00   \n",
       "75%      0.93  82,943.00   71.00    185.00    200.00  16.00  16.00  16.00   \n",
       "max      2.38 100,000.00   80.00    314.00    350.00  20.00  20.00  20.00   \n",
       "\n",
       "         smr  siblings  reg97ne  reg97nc  reg97s  reg97w  rs97rurl  rs97urbn  \\\n",
       "count 492.00    492.00   492.00   492.00  492.00  492.00    492.00    492.00   \n",
       "mean   13.57      1.96     0.15     0.36    0.29    0.19      0.32      0.68   \n",
       "std     2.55      1.44     0.36     0.48    0.45    0.40      0.47      0.47   \n",
       "min     4.00      0.00     0.00     0.00    0.00    0.00      0.00      0.00   \n",
       "25%    12.00      1.00     0.00     0.00    0.00    0.00      0.00      0.00   \n",
       "50%    13.00      2.00     0.00     0.00    0.00    0.00      0.00      1.00   \n",
       "75%    16.00      3.00     0.00     1.00    1.00    0.00      1.00      1.00   \n",
       "max    20.00     14.00     1.00     1.00    1.00    1.00      1.00      1.00   \n",
       "\n",
       "       rs97unkn   jobs  hours  tenure  catgov  catpri  catnpo  catmis  catse  \\\n",
       "count    492.00 492.00 492.00  492.00  492.00  492.00  492.00  492.00 492.00   \n",
       "mean       0.00   5.32  39.87    3.37    0.13    0.74    0.08    0.05   0.06   \n",
       "std        0.00   2.82  10.49    2.30    0.34    0.44    0.27    0.22   0.24   \n",
       "min        0.00   1.00  10.00    0.13    0.00    0.00    0.00    0.00   0.00   \n",
       "25%        0.00   3.00  40.00    1.27    0.00    0.00    0.00    0.00   0.00   \n",
       "50%        0.00   5.00  40.00    3.15    0.00    1.00    0.00    0.00   0.00   \n",
       "75%        0.00   7.00  42.00    4.99    0.00    1.00    0.00    0.00   0.00   \n",
       "max        0.00  16.00  80.00    9.71    1.00    1.00    1.00    1.00   1.00   \n",
       "\n",
       "       collbarg  urban  regne  regnc   regw   regs  msa11no  msa11ncc  \\\n",
       "count    492.00 492.00 492.00 492.00 492.00 492.00   492.00    492.00   \n",
       "mean       0.12   0.75   0.13   0.31   0.35   0.21     0.05      0.54   \n",
       "std        0.33   0.44   0.33   0.46   0.48   0.41     0.22      0.50   \n",
       "min        0.00   0.00   0.00   0.00   0.00   0.00     0.00      0.00   \n",
       "25%        0.00   0.00   0.00   0.00   0.00   0.00     0.00      0.00   \n",
       "50%        0.00   1.00   0.00   0.00   0.00   0.00     0.00      1.00   \n",
       "75%        0.00   1.00   0.00   1.00   1.00   0.00     0.00      1.00   \n",
       "max        1.00   2.00   1.00   1.00   1.00   1.00     1.00      1.00   \n",
       "\n",
       "       msa11cc  msa11nk  msa11nic  \n",
       "count   492.00   492.00    492.00  \n",
       "mean      0.41     0.00      0.00  \n",
       "std       0.49     0.05      0.00  \n",
       "min       0.00     0.00      0.00  \n",
       "25%       0.00     0.00      0.00  \n",
       "50%       0.00     0.00      0.00  \n",
       "75%       1.00     0.00      0.00  \n",
       "max       1.00     1.00      0.00  "
      ]
     },
     "execution_count": 11,
     "metadata": {},
     "output_type": "execute_result"
    }
   ],
   "source": [
    "df.describe(include='all')"
   ]
  },
  {
   "cell_type": "markdown",
   "metadata": {
    "id": "ZO-86NXbnWSH"
   },
   "source": [
    "## Visualise the Features"
   ]
  },
  {
   "cell_type": "code",
   "execution_count": 12,
   "metadata": {
    "id": "hFZJjbsKncPM"
   },
   "outputs": [
    {
     "data": {
      "text/html": [
       "<div>\n",
       "<style scoped>\n",
       "    .dataframe tbody tr th:only-of-type {\n",
       "        vertical-align: middle;\n",
       "    }\n",
       "\n",
       "    .dataframe tbody tr th {\n",
       "        vertical-align: top;\n",
       "    }\n",
       "\n",
       "    .dataframe thead th {\n",
       "        text-align: right;\n",
       "    }\n",
       "</style>\n",
       "<table border=\"1\" class=\"dataframe\">\n",
       "  <thead>\n",
       "    <tr style=\"text-align: right;\">\n",
       "      <th></th>\n",
       "      <th>id</th>\n",
       "      <th>earnings</th>\n",
       "      <th>s</th>\n",
       "      <th>exp</th>\n",
       "      <th>female</th>\n",
       "      <th>male</th>\n",
       "      <th>byear</th>\n",
       "      <th>age</th>\n",
       "      <th>agembth</th>\n",
       "      <th>hhinc97</th>\n",
       "      <th>povrat97</th>\n",
       "      <th>hhbmbf</th>\n",
       "      <th>hhbmof</th>\n",
       "      <th>hhombf</th>\n",
       "      <th>hhbmonly</th>\n",
       "      <th>hhbfonly</th>\n",
       "      <th>hhother</th>\n",
       "      <th>msa97no</th>\n",
       "      <th>msa97ncc</th>\n",
       "      <th>msa97cc</th>\n",
       "      <th>msa97nk</th>\n",
       "      <th>ethblack</th>\n",
       "      <th>ethhisp</th>\n",
       "      <th>ethwhite</th>\n",
       "      <th>educprof</th>\n",
       "      <th>educphd</th>\n",
       "      <th>educmast</th>\n",
       "      <th>educba</th>\n",
       "      <th>educaa</th>\n",
       "      <th>educhsd</th>\n",
       "      <th>educged</th>\n",
       "      <th>educdo</th>\n",
       "      <th>prmonm</th>\n",
       "      <th>prmonf</th>\n",
       "      <th>prmstyun</th>\n",
       "      <th>prmstype</th>\n",
       "      <th>prmstyan</th>\n",
       "      <th>prmstyae</th>\n",
       "      <th>prfstyun</th>\n",
       "      <th>prfstype</th>\n",
       "      <th>prfstyan</th>\n",
       "      <th>prfstyae</th>\n",
       "      <th>single</th>\n",
       "      <th>married</th>\n",
       "      <th>cohabit</th>\n",
       "      <th>othsing</th>\n",
       "      <th>faithn</th>\n",
       "      <th>faithp</th>\n",
       "      <th>faithc</th>\n",
       "      <th>faithj</th>\n",
       "      <th>faitho</th>\n",
       "      <th>faithm</th>\n",
       "      <th>asvabar</th>\n",
       "      <th>asvabwk</th>\n",
       "      <th>asvabpc</th>\n",
       "      <th>asvabmk</th>\n",
       "      <th>asvabno</th>\n",
       "      <th>asvabcs</th>\n",
       "      <th>asvabc</th>\n",
       "      <th>asvabc4</th>\n",
       "      <th>verbal</th>\n",
       "      <th>asvabmv</th>\n",
       "      <th>height</th>\n",
       "      <th>weight04</th>\n",
       "      <th>weight11</th>\n",
       "      <th>sf</th>\n",
       "      <th>sm</th>\n",
       "      <th>sfr</th>\n",
       "      <th>smr</th>\n",
       "      <th>siblings</th>\n",
       "      <th>reg97ne</th>\n",
       "      <th>reg97nc</th>\n",
       "      <th>reg97s</th>\n",
       "      <th>reg97w</th>\n",
       "      <th>rs97rurl</th>\n",
       "      <th>rs97urbn</th>\n",
       "      <th>rs97unkn</th>\n",
       "      <th>jobs</th>\n",
       "      <th>hours</th>\n",
       "      <th>tenure</th>\n",
       "      <th>catgov</th>\n",
       "      <th>catpri</th>\n",
       "      <th>catnpo</th>\n",
       "      <th>catmis</th>\n",
       "      <th>catse</th>\n",
       "      <th>collbarg</th>\n",
       "      <th>urban</th>\n",
       "      <th>regne</th>\n",
       "      <th>regnc</th>\n",
       "      <th>regw</th>\n",
       "      <th>regs</th>\n",
       "      <th>msa11no</th>\n",
       "      <th>msa11ncc</th>\n",
       "      <th>msa11cc</th>\n",
       "      <th>msa11nk</th>\n",
       "      <th>msa11nic</th>\n",
       "    </tr>\n",
       "  </thead>\n",
       "  <tbody>\n",
       "    <tr>\n",
       "      <th>0</th>\n",
       "      <td>4275</td>\n",
       "      <td>18.50</td>\n",
       "      <td>12</td>\n",
       "      <td>9.71</td>\n",
       "      <td>0</td>\n",
       "      <td>1</td>\n",
       "      <td>1984</td>\n",
       "      <td>27</td>\n",
       "      <td>24.00</td>\n",
       "      <td>64,000.00</td>\n",
       "      <td>402.00</td>\n",
       "      <td>1</td>\n",
       "      <td>0</td>\n",
       "      <td>0</td>\n",
       "      <td>0</td>\n",
       "      <td>0</td>\n",
       "      <td>0</td>\n",
       "      <td>0</td>\n",
       "      <td>0</td>\n",
       "      <td>1</td>\n",
       "      <td>0</td>\n",
       "      <td>0</td>\n",
       "      <td>0</td>\n",
       "      <td>1</td>\n",
       "      <td>0</td>\n",
       "      <td>0</td>\n",
       "      <td>0</td>\n",
       "      <td>0</td>\n",
       "      <td>0</td>\n",
       "      <td>1</td>\n",
       "      <td>0</td>\n",
       "      <td>0</td>\n",
       "      <td>14.00</td>\n",
       "      <td>14.00</td>\n",
       "      <td>0.00</td>\n",
       "      <td>0.00</td>\n",
       "      <td>0.00</td>\n",
       "      <td>1.00</td>\n",
       "      <td>0.00</td>\n",
       "      <td>0.00</td>\n",
       "      <td>0.00</td>\n",
       "      <td>1.00</td>\n",
       "      <td>0</td>\n",
       "      <td>1</td>\n",
       "      <td>0</td>\n",
       "      <td>0</td>\n",
       "      <td>0</td>\n",
       "      <td>0</td>\n",
       "      <td>1</td>\n",
       "      <td>0</td>\n",
       "      <td>0</td>\n",
       "      <td>0</td>\n",
       "      <td>0.12</td>\n",
       "      <td>-0.69</td>\n",
       "      <td>-0.31</td>\n",
       "      <td>-0.29</td>\n",
       "      <td>-0.36</td>\n",
       "      <td>-0.72</td>\n",
       "      <td>-0.21</td>\n",
       "      <td>-0.32</td>\n",
       "      <td>-0.53</td>\n",
       "      <td>29818</td>\n",
       "      <td>70</td>\n",
       "      <td>155</td>\n",
       "      <td>186</td>\n",
       "      <td>12</td>\n",
       "      <td>12</td>\n",
       "      <td>12.00</td>\n",
       "      <td>12.00</td>\n",
       "      <td>1</td>\n",
       "      <td>0</td>\n",
       "      <td>0</td>\n",
       "      <td>1</td>\n",
       "      <td>0</td>\n",
       "      <td>0</td>\n",
       "      <td>1</td>\n",
       "      <td>0</td>\n",
       "      <td>6.00</td>\n",
       "      <td>50</td>\n",
       "      <td>4.77</td>\n",
       "      <td>0</td>\n",
       "      <td>1</td>\n",
       "      <td>0</td>\n",
       "      <td>0</td>\n",
       "      <td>0</td>\n",
       "      <td>0</td>\n",
       "      <td>1</td>\n",
       "      <td>0</td>\n",
       "      <td>0</td>\n",
       "      <td>1</td>\n",
       "      <td>0</td>\n",
       "      <td>0</td>\n",
       "      <td>0</td>\n",
       "      <td>1</td>\n",
       "      <td>0</td>\n",
       "      <td>0</td>\n",
       "    </tr>\n",
       "    <tr>\n",
       "      <th>4</th>\n",
       "      <td>1994</td>\n",
       "      <td>36.06</td>\n",
       "      <td>15</td>\n",
       "      <td>2.94</td>\n",
       "      <td>0</td>\n",
       "      <td>1</td>\n",
       "      <td>1984</td>\n",
       "      <td>27</td>\n",
       "      <td>23.00</td>\n",
       "      <td>44,188.00</td>\n",
       "      <td>278.00</td>\n",
       "      <td>1</td>\n",
       "      <td>0</td>\n",
       "      <td>0</td>\n",
       "      <td>0</td>\n",
       "      <td>0</td>\n",
       "      <td>0</td>\n",
       "      <td>0</td>\n",
       "      <td>0</td>\n",
       "      <td>1</td>\n",
       "      <td>0</td>\n",
       "      <td>0</td>\n",
       "      <td>0</td>\n",
       "      <td>1</td>\n",
       "      <td>0</td>\n",
       "      <td>0</td>\n",
       "      <td>0</td>\n",
       "      <td>0</td>\n",
       "      <td>0</td>\n",
       "      <td>1</td>\n",
       "      <td>0</td>\n",
       "      <td>0</td>\n",
       "      <td>11.00</td>\n",
       "      <td>8.00</td>\n",
       "      <td>0.00</td>\n",
       "      <td>1.00</td>\n",
       "      <td>0.00</td>\n",
       "      <td>0.00</td>\n",
       "      <td>0.00</td>\n",
       "      <td>0.00</td>\n",
       "      <td>1.00</td>\n",
       "      <td>0.00</td>\n",
       "      <td>1</td>\n",
       "      <td>0</td>\n",
       "      <td>0</td>\n",
       "      <td>0</td>\n",
       "      <td>0</td>\n",
       "      <td>0</td>\n",
       "      <td>0</td>\n",
       "      <td>1</td>\n",
       "      <td>0</td>\n",
       "      <td>0</td>\n",
       "      <td>1.54</td>\n",
       "      <td>0.33</td>\n",
       "      <td>0.78</td>\n",
       "      <td>1.19</td>\n",
       "      <td>0.22</td>\n",
       "      <td>0.22</td>\n",
       "      <td>1.15</td>\n",
       "      <td>1.07</td>\n",
       "      <td>0.59</td>\n",
       "      <td>89773</td>\n",
       "      <td>71</td>\n",
       "      <td>145</td>\n",
       "      <td>170</td>\n",
       "      <td>14</td>\n",
       "      <td>16</td>\n",
       "      <td>14.00</td>\n",
       "      <td>16.00</td>\n",
       "      <td>1</td>\n",
       "      <td>0</td>\n",
       "      <td>0</td>\n",
       "      <td>0</td>\n",
       "      <td>1</td>\n",
       "      <td>0</td>\n",
       "      <td>1</td>\n",
       "      <td>0</td>\n",
       "      <td>7.00</td>\n",
       "      <td>40</td>\n",
       "      <td>2.35</td>\n",
       "      <td>0</td>\n",
       "      <td>1</td>\n",
       "      <td>0</td>\n",
       "      <td>0</td>\n",
       "      <td>0</td>\n",
       "      <td>0</td>\n",
       "      <td>1</td>\n",
       "      <td>0</td>\n",
       "      <td>0</td>\n",
       "      <td>0</td>\n",
       "      <td>1</td>\n",
       "      <td>0</td>\n",
       "      <td>0</td>\n",
       "      <td>1</td>\n",
       "      <td>0</td>\n",
       "      <td>0</td>\n",
       "    </tr>\n",
       "    <tr>\n",
       "      <th>5</th>\n",
       "      <td>2788</td>\n",
       "      <td>13.14</td>\n",
       "      <td>12</td>\n",
       "      <td>8.02</td>\n",
       "      <td>0</td>\n",
       "      <td>1</td>\n",
       "      <td>1983</td>\n",
       "      <td>28</td>\n",
       "      <td>25.00</td>\n",
       "      <td>97,400.00</td>\n",
       "      <td>612.00</td>\n",
       "      <td>1</td>\n",
       "      <td>0</td>\n",
       "      <td>0</td>\n",
       "      <td>0</td>\n",
       "      <td>0</td>\n",
       "      <td>0</td>\n",
       "      <td>0</td>\n",
       "      <td>1</td>\n",
       "      <td>0</td>\n",
       "      <td>0</td>\n",
       "      <td>0</td>\n",
       "      <td>0</td>\n",
       "      <td>1</td>\n",
       "      <td>0</td>\n",
       "      <td>0</td>\n",
       "      <td>0</td>\n",
       "      <td>0</td>\n",
       "      <td>0</td>\n",
       "      <td>1</td>\n",
       "      <td>0</td>\n",
       "      <td>0</td>\n",
       "      <td>5.00</td>\n",
       "      <td>3.00</td>\n",
       "      <td>1.00</td>\n",
       "      <td>0.00</td>\n",
       "      <td>0.00</td>\n",
       "      <td>0.00</td>\n",
       "      <td>0.00</td>\n",
       "      <td>0.00</td>\n",
       "      <td>1.00</td>\n",
       "      <td>0.00</td>\n",
       "      <td>0</td>\n",
       "      <td>0</td>\n",
       "      <td>1</td>\n",
       "      <td>0</td>\n",
       "      <td>0</td>\n",
       "      <td>1</td>\n",
       "      <td>0</td>\n",
       "      <td>0</td>\n",
       "      <td>0</td>\n",
       "      <td>0</td>\n",
       "      <td>0.72</td>\n",
       "      <td>1.01</td>\n",
       "      <td>0.80</td>\n",
       "      <td>1.11</td>\n",
       "      <td>-0.76</td>\n",
       "      <td>0.69</td>\n",
       "      <td>0.90</td>\n",
       "      <td>1.02</td>\n",
       "      <td>0.97</td>\n",
       "      <td>86885</td>\n",
       "      <td>66</td>\n",
       "      <td>220</td>\n",
       "      <td>245</td>\n",
       "      <td>13</td>\n",
       "      <td>13</td>\n",
       "      <td>13.00</td>\n",
       "      <td>13.00</td>\n",
       "      <td>1</td>\n",
       "      <td>0</td>\n",
       "      <td>1</td>\n",
       "      <td>0</td>\n",
       "      <td>0</td>\n",
       "      <td>1</td>\n",
       "      <td>0</td>\n",
       "      <td>0</td>\n",
       "      <td>2.00</td>\n",
       "      <td>50</td>\n",
       "      <td>4.25</td>\n",
       "      <td>0</td>\n",
       "      <td>1</td>\n",
       "      <td>0</td>\n",
       "      <td>0</td>\n",
       "      <td>0</td>\n",
       "      <td>0</td>\n",
       "      <td>1</td>\n",
       "      <td>0</td>\n",
       "      <td>1</td>\n",
       "      <td>0</td>\n",
       "      <td>0</td>\n",
       "      <td>0</td>\n",
       "      <td>0</td>\n",
       "      <td>1</td>\n",
       "      <td>0</td>\n",
       "      <td>0</td>\n",
       "    </tr>\n",
       "    <tr>\n",
       "      <th>6</th>\n",
       "      <td>3473</td>\n",
       "      <td>10.00</td>\n",
       "      <td>13</td>\n",
       "      <td>9.79</td>\n",
       "      <td>0</td>\n",
       "      <td>1</td>\n",
       "      <td>1983</td>\n",
       "      <td>28</td>\n",
       "      <td>23.00</td>\n",
       "      <td>70,751.00</td>\n",
       "      <td>445.00</td>\n",
       "      <td>1</td>\n",
       "      <td>0</td>\n",
       "      <td>0</td>\n",
       "      <td>0</td>\n",
       "      <td>0</td>\n",
       "      <td>0</td>\n",
       "      <td>0</td>\n",
       "      <td>1</td>\n",
       "      <td>0</td>\n",
       "      <td>0</td>\n",
       "      <td>0</td>\n",
       "      <td>0</td>\n",
       "      <td>1</td>\n",
       "      <td>0</td>\n",
       "      <td>0</td>\n",
       "      <td>0</td>\n",
       "      <td>0</td>\n",
       "      <td>0</td>\n",
       "      <td>1</td>\n",
       "      <td>0</td>\n",
       "      <td>0</td>\n",
       "      <td>3.00</td>\n",
       "      <td>5.00</td>\n",
       "      <td>0.00</td>\n",
       "      <td>1.00</td>\n",
       "      <td>0.00</td>\n",
       "      <td>0.00</td>\n",
       "      <td>0.00</td>\n",
       "      <td>1.00</td>\n",
       "      <td>0.00</td>\n",
       "      <td>0.00</td>\n",
       "      <td>1</td>\n",
       "      <td>0</td>\n",
       "      <td>0</td>\n",
       "      <td>0</td>\n",
       "      <td>0</td>\n",
       "      <td>1</td>\n",
       "      <td>0</td>\n",
       "      <td>0</td>\n",
       "      <td>0</td>\n",
       "      <td>0</td>\n",
       "      <td>-2.59</td>\n",
       "      <td>-0.68</td>\n",
       "      <td>-1.61</td>\n",
       "      <td>-0.93</td>\n",
       "      <td>-1.31</td>\n",
       "      <td>-0.01</td>\n",
       "      <td>-2.05</td>\n",
       "      <td>-1.62</td>\n",
       "      <td>-1.22</td>\n",
       "      <td>8396</td>\n",
       "      <td>69</td>\n",
       "      <td>154</td>\n",
       "      <td>150</td>\n",
       "      <td>12</td>\n",
       "      <td>16</td>\n",
       "      <td>12.00</td>\n",
       "      <td>16.00</td>\n",
       "      <td>1</td>\n",
       "      <td>0</td>\n",
       "      <td>0</td>\n",
       "      <td>1</td>\n",
       "      <td>0</td>\n",
       "      <td>0</td>\n",
       "      <td>1</td>\n",
       "      <td>0</td>\n",
       "      <td>3.00</td>\n",
       "      <td>30</td>\n",
       "      <td>8.08</td>\n",
       "      <td>0</td>\n",
       "      <td>0</td>\n",
       "      <td>0</td>\n",
       "      <td>1</td>\n",
       "      <td>0</td>\n",
       "      <td>0</td>\n",
       "      <td>1</td>\n",
       "      <td>0</td>\n",
       "      <td>0</td>\n",
       "      <td>1</td>\n",
       "      <td>0</td>\n",
       "      <td>0</td>\n",
       "      <td>1</td>\n",
       "      <td>0</td>\n",
       "      <td>0</td>\n",
       "      <td>0</td>\n",
       "    </tr>\n",
       "    <tr>\n",
       "      <th>8</th>\n",
       "      <td>1239</td>\n",
       "      <td>20.19</td>\n",
       "      <td>14</td>\n",
       "      <td>6.85</td>\n",
       "      <td>0</td>\n",
       "      <td>1</td>\n",
       "      <td>1983</td>\n",
       "      <td>28</td>\n",
       "      <td>25.00</td>\n",
       "      <td>246,474.00</td>\n",
       "      <td>1,627.00</td>\n",
       "      <td>1</td>\n",
       "      <td>0</td>\n",
       "      <td>0</td>\n",
       "      <td>0</td>\n",
       "      <td>0</td>\n",
       "      <td>0</td>\n",
       "      <td>0</td>\n",
       "      <td>1</td>\n",
       "      <td>0</td>\n",
       "      <td>0</td>\n",
       "      <td>0</td>\n",
       "      <td>0</td>\n",
       "      <td>1</td>\n",
       "      <td>0</td>\n",
       "      <td>0</td>\n",
       "      <td>0</td>\n",
       "      <td>0</td>\n",
       "      <td>0</td>\n",
       "      <td>1</td>\n",
       "      <td>0</td>\n",
       "      <td>0</td>\n",
       "      <td>10.00</td>\n",
       "      <td>6.00</td>\n",
       "      <td>1.00</td>\n",
       "      <td>0.00</td>\n",
       "      <td>0.00</td>\n",
       "      <td>0.00</td>\n",
       "      <td>1.00</td>\n",
       "      <td>0.00</td>\n",
       "      <td>0.00</td>\n",
       "      <td>0.00</td>\n",
       "      <td>0</td>\n",
       "      <td>1</td>\n",
       "      <td>0</td>\n",
       "      <td>0</td>\n",
       "      <td>0</td>\n",
       "      <td>1</td>\n",
       "      <td>0</td>\n",
       "      <td>0</td>\n",
       "      <td>0</td>\n",
       "      <td>0</td>\n",
       "      <td>1.86</td>\n",
       "      <td>1.69</td>\n",
       "      <td>2.24</td>\n",
       "      <td>1.09</td>\n",
       "      <td>0.87</td>\n",
       "      <td>0.56</td>\n",
       "      <td>2.10</td>\n",
       "      <td>1.93</td>\n",
       "      <td>2.10</td>\n",
       "      <td>98479</td>\n",
       "      <td>71</td>\n",
       "      <td>175</td>\n",
       "      <td>180</td>\n",
       "      <td>16</td>\n",
       "      <td>20</td>\n",
       "      <td>16.00</td>\n",
       "      <td>20.00</td>\n",
       "      <td>1</td>\n",
       "      <td>0</td>\n",
       "      <td>1</td>\n",
       "      <td>0</td>\n",
       "      <td>0</td>\n",
       "      <td>0</td>\n",
       "      <td>1</td>\n",
       "      <td>0</td>\n",
       "      <td>6.00</td>\n",
       "      <td>40</td>\n",
       "      <td>3.88</td>\n",
       "      <td>0</td>\n",
       "      <td>1</td>\n",
       "      <td>0</td>\n",
       "      <td>0</td>\n",
       "      <td>0</td>\n",
       "      <td>0</td>\n",
       "      <td>1</td>\n",
       "      <td>0</td>\n",
       "      <td>0</td>\n",
       "      <td>0</td>\n",
       "      <td>1</td>\n",
       "      <td>0</td>\n",
       "      <td>0</td>\n",
       "      <td>1</td>\n",
       "      <td>0</td>\n",
       "      <td>0</td>\n",
       "    </tr>\n",
       "  </tbody>\n",
       "</table>\n",
       "</div>"
      ],
      "text/plain": [
       "     id  earnings   s  exp  female  male  byear  age  agembth    hhinc97  \\\n",
       "0  4275     18.50  12 9.71       0     1   1984   27    24.00  64,000.00   \n",
       "4  1994     36.06  15 2.94       0     1   1984   27    23.00  44,188.00   \n",
       "5  2788     13.14  12 8.02       0     1   1983   28    25.00  97,400.00   \n",
       "6  3473     10.00  13 9.79       0     1   1983   28    23.00  70,751.00   \n",
       "8  1239     20.19  14 6.85       0     1   1983   28    25.00 246,474.00   \n",
       "\n",
       "   povrat97  hhbmbf  hhbmof  hhombf  hhbmonly  hhbfonly  hhother  msa97no  \\\n",
       "0    402.00       1       0       0         0         0        0        0   \n",
       "4    278.00       1       0       0         0         0        0        0   \n",
       "5    612.00       1       0       0         0         0        0        0   \n",
       "6    445.00       1       0       0         0         0        0        0   \n",
       "8  1,627.00       1       0       0         0         0        0        0   \n",
       "\n",
       "   msa97ncc  msa97cc  msa97nk  ethblack  ethhisp  ethwhite  educprof  educphd  \\\n",
       "0         0        1        0         0        0         1         0        0   \n",
       "4         0        1        0         0        0         1         0        0   \n",
       "5         1        0        0         0        0         1         0        0   \n",
       "6         1        0        0         0        0         1         0        0   \n",
       "8         1        0        0         0        0         1         0        0   \n",
       "\n",
       "   educmast  educba  educaa  educhsd  educged  educdo  prmonm  prmonf  \\\n",
       "0         0       0       0        1        0       0   14.00   14.00   \n",
       "4         0       0       0        1        0       0   11.00    8.00   \n",
       "5         0       0       0        1        0       0    5.00    3.00   \n",
       "6         0       0       0        1        0       0    3.00    5.00   \n",
       "8         0       0       0        1        0       0   10.00    6.00   \n",
       "\n",
       "   prmstyun  prmstype  prmstyan  prmstyae  prfstyun  prfstype  prfstyan  \\\n",
       "0      0.00      0.00      0.00      1.00      0.00      0.00      0.00   \n",
       "4      0.00      1.00      0.00      0.00      0.00      0.00      1.00   \n",
       "5      1.00      0.00      0.00      0.00      0.00      0.00      1.00   \n",
       "6      0.00      1.00      0.00      0.00      0.00      1.00      0.00   \n",
       "8      1.00      0.00      0.00      0.00      1.00      0.00      0.00   \n",
       "\n",
       "   prfstyae  single  married  cohabit  othsing  faithn  faithp  faithc  \\\n",
       "0      1.00       0        1        0        0       0       0       1   \n",
       "4      0.00       1        0        0        0       0       0       0   \n",
       "5      0.00       0        0        1        0       0       1       0   \n",
       "6      0.00       1        0        0        0       0       1       0   \n",
       "8      0.00       0        1        0        0       0       1       0   \n",
       "\n",
       "   faithj  faitho  faithm  asvabar  asvabwk  asvabpc  asvabmk  asvabno  \\\n",
       "0       0       0       0     0.12    -0.69    -0.31    -0.29    -0.36   \n",
       "4       1       0       0     1.54     0.33     0.78     1.19     0.22   \n",
       "5       0       0       0     0.72     1.01     0.80     1.11    -0.76   \n",
       "6       0       0       0    -2.59    -0.68    -1.61    -0.93    -1.31   \n",
       "8       0       0       0     1.86     1.69     2.24     1.09     0.87   \n",
       "\n",
       "   asvabcs  asvabc  asvabc4  verbal  asvabmv  height  weight04  weight11  sf  \\\n",
       "0    -0.72   -0.21    -0.32   -0.53    29818      70       155       186  12   \n",
       "4     0.22    1.15     1.07    0.59    89773      71       145       170  14   \n",
       "5     0.69    0.90     1.02    0.97    86885      66       220       245  13   \n",
       "6    -0.01   -2.05    -1.62   -1.22     8396      69       154       150  12   \n",
       "8     0.56    2.10     1.93    2.10    98479      71       175       180  16   \n",
       "\n",
       "   sm   sfr   smr  siblings  reg97ne  reg97nc  reg97s  reg97w  rs97rurl  \\\n",
       "0  12 12.00 12.00         1        0        0       1       0         0   \n",
       "4  16 14.00 16.00         1        0        0       0       1         0   \n",
       "5  13 13.00 13.00         1        0        1       0       0         1   \n",
       "6  16 12.00 16.00         1        0        0       1       0         0   \n",
       "8  20 16.00 20.00         1        0        1       0       0         0   \n",
       "\n",
       "   rs97urbn  rs97unkn  jobs  hours  tenure  catgov  catpri  catnpo  catmis  \\\n",
       "0         1         0  6.00     50    4.77       0       1       0       0   \n",
       "4         1         0  7.00     40    2.35       0       1       0       0   \n",
       "5         0         0  2.00     50    4.25       0       1       0       0   \n",
       "6         1         0  3.00     30    8.08       0       0       0       1   \n",
       "8         1         0  6.00     40    3.88       0       1       0       0   \n",
       "\n",
       "   catse  collbarg  urban  regne  regnc  regw  regs  msa11no  msa11ncc  \\\n",
       "0      0         0      1      0      0     1     0        0         0   \n",
       "4      0         0      1      0      0     0     1        0         0   \n",
       "5      0         0      1      0      1     0     0        0         0   \n",
       "6      0         0      1      0      0     1     0        0         1   \n",
       "8      0         0      1      0      0     0     1        0         0   \n",
       "\n",
       "   msa11cc  msa11nk  msa11nic  \n",
       "0        1        0         0  \n",
       "4        1        0         0  \n",
       "5        1        0         0  \n",
       "6        0        0         0  \n",
       "8        1        0         0  "
      ]
     },
     "execution_count": 12,
     "metadata": {},
     "output_type": "execute_result"
    }
   ],
   "source": [
    "df.head()"
   ]
  },
  {
   "cell_type": "code",
   "execution_count": 13,
   "metadata": {},
   "outputs": [
    {
     "data": {
      "image/png": "[encoded data removed]",
      "text/plain": [
       "<Figure size 1500x200 with 3 Axes>"
      ]
     },
     "metadata": {},
     "output_type": "display_data"
    }
   ],
   "source": [
    "fig, axes = plt.subplots(1, 3, figsize=(15, 2))\n",
    "fig.suptitle('Boxplots for outlier detection')\n",
    "sns.boxplot(ax=axes[0], x=df['earnings'])\n",
    "sns.boxplot(ax=axes[1], x=df['s'])\n",
    "sns.boxplot(ax=axes[2], x=df['exp'])\n",
    "plt.show();"
   ]
  },
  {
   "cell_type": "markdown",
   "metadata": {},
   "source": [
    "* There are outliers in `earnings`. We need to treat them properly later for linear regression to work well."
   ]
  },
  {
   "cell_type": "code",
   "execution_count": 14,
   "metadata": {},
   "outputs": [
    {
     "data": {
      "image/png": "[encoded data removed]",
      "text/plain": [
       "<Figure size 640x480 with 1 Axes>"
      ]
     },
     "metadata": {},
     "output_type": "display_data"
    }
   ],
   "source": [
    "fig = sns.histplot(data=df['earnings'],\n",
    "                   binwidth=2\n",
    "                  )\n",
    "fig.set_title('Histogram of Earnings')\n",
    "fig.set_xlabel('earning ($/hour)')\n",
    "plt.show()"
   ]
  },
  {
   "cell_type": "markdown",
   "metadata": {},
   "source": [
    "* Most of earnings are distributed at 12-16 $/hour."
   ]
  },
  {
   "cell_type": "code",
   "execution_count": 15,
   "metadata": {},
   "outputs": [
    {
     "data": {
      "image/png": "[encoded data removed]",
      "text/plain": [
       "<Figure size 640x480 with 1 Axes>"
      ]
     },
     "metadata": {},
     "output_type": "display_data"
    }
   ],
   "source": [
    "fig = sns.histplot(data=df['exp'])\n",
    "fig.set_title('Histogram of Experience')\n",
    "fig.set_xlabel('years of experience')\n",
    "plt.show()"
   ]
  },
  {
   "cell_type": "markdown",
   "metadata": {},
   "source": [
    "* Years of experience are distributed mostly at 5-7 years."
   ]
  },
  {
   "cell_type": "code",
   "execution_count": 16,
   "metadata": {},
   "outputs": [
    {
     "data": {
      "image/png": "[encoded data removed]",
      "text/plain": [
       "<Figure size 640x480 with 1 Axes>"
      ]
     },
     "metadata": {},
     "output_type": "display_data"
    }
   ],
   "source": [
    "fig = sns.histplot(data=df['s'])\n",
    "fig.set_title('Histogram of Years of Schooling')\n",
    "fig.set_xlabel('years of schooling')\n",
    "plt.show()"
   ]
  },
  {
   "cell_type": "markdown",
   "metadata": {},
   "source": [
    "* 12-16 years of schooling are the most common categories."
   ]
  },
  {
   "cell_type": "markdown",
   "metadata": {},
   "source": [
    "# Outliers"
   ]
  },
  {
   "cell_type": "markdown",
   "metadata": {},
   "source": [
    "Create a function to impute outliers."
   ]
  },
  {
   "cell_type": "code",
   "execution_count": 17,
   "metadata": {},
   "outputs": [],
   "source": [
    "def outlier_imputer(column_list, iqr_factor):\n",
    "    '''\n",
    "    Impute upper-limit values in specified columns based on their interquartile range.\n",
    "\n",
    "    Arguments:\n",
    "        column_list: A list of columns to iterate over\n",
    "        iqr_factor: A number representing x in the formula:\n",
    "                    Q3 + (x * IQR). Used to determine maximum threshold,\n",
    "                    beyond which a point is considered an outlier.\n",
    "\n",
    "    The IQR is computed for each column in column_list and values exceeding\n",
    "    the upper threshold for each column are imputed with the upper threshold value.\n",
    "    '''\n",
    "    for col in column_list:\n",
    "        # Reassign minimum to zero\n",
    "        df.loc[df[col] < 0, col] = 0\n",
    "\n",
    "        # Calculate upper threshold\n",
    "        q1 = df[col].quantile(0.25)\n",
    "        q3 = df[col].quantile(0.75)\n",
    "        iqr = q3 - q1\n",
    "        upper_threshold = q3 + (iqr_factor * iqr)\n",
    "        print(col)\n",
    "        print('q3:', q3)\n",
    "        print('upper_threshold:', upper_threshold)\n",
    "\n",
    "        # Reassign values > threshold to threshold\n",
    "        df.loc[df[col] > upper_threshold, col] = upper_threshold\n",
    "        print(df[col].describe())\n",
    "        print()"
   ]
  },
  {
   "cell_type": "code",
   "execution_count": 18,
   "metadata": {},
   "outputs": [
    {
     "name": "stdout",
     "output_type": "stream",
     "text": [
      "earnings\n",
      "q3: 24.04\n",
      "upper_threshold: 42.099999999999994\n",
      "count   492.00\n",
      "mean     18.59\n",
      "std       9.18\n",
      "min       2.13\n",
      "25%      12.00\n",
      "50%      16.00\n",
      "75%      24.04\n",
      "max      42.10\n",
      "Name: earnings, dtype: float64\n",
      "\n"
     ]
    }
   ],
   "source": [
    "# Impute the outliers with the upper threshold value\n",
    "outlier_imputer(['earnings'], 1.5)"
   ]
  },
  {
   "cell_type": "markdown",
   "metadata": {},
   "source": [
    "***Optional:*** Create a function to drop outliers (We don't use this in this project because the number of outliers is large in proportion to all data observations."
   ]
  },
  {
   "cell_type": "code",
   "execution_count": 19,
   "metadata": {},
   "outputs": [],
   "source": [
    "def outlier_drop(column_list, iqr_factor):\n",
    "    for col in column_list:\n",
    "        # Calculate upper threshold\n",
    "        q1 = df[col].quantile(0.25)\n",
    "        q3 = df[col].quantile(0.75)\n",
    "        iqr = q3 - q1\n",
    "        upper_threshold = q3 + (iqr_factor * iqr)\n",
    "        print(col)\n",
    "        print('q3:', q3)\n",
    "        print('upper_threshold:', upper_threshold)\n",
    "\n",
    "        # Reassign values > threshold to threshold\n",
    "        df.drop(df[df[col] > upper_threshold].index, inplace=True)\n",
    "        print(df[col].describe())\n",
    "        print()"
   ]
  },
  {
   "cell_type": "code",
   "execution_count": 20,
   "metadata": {},
   "outputs": [],
   "source": [
    "# Drop outliers\n",
    "# outlier_drop(['earnings'], 1.5)"
   ]
  },
  {
   "cell_type": "code",
   "execution_count": 21,
   "metadata": {},
   "outputs": [
    {
     "data": {
      "image/png": "[encoded data removed]",
      "text/plain": [
       "<Figure size 640x480 with 1 Axes>"
      ]
     },
     "metadata": {},
     "output_type": "display_data"
    }
   ],
   "source": [
    "fig = sns.histplot(data=df['earnings'],\n",
    "                   binwidth=2\n",
    "                  )\n",
    "fig.set_title('Histogram of Earnings')\n",
    "fig.set_xlabel('earning ($/hour)')\n",
    "plt.show()"
   ]
  },
  {
   "cell_type": "markdown",
   "metadata": {
    "id": "9i4zHYG4nhDL"
   },
   "source": [
    "# Split Training & Test Dataset\n",
    "\n",
    "We *can't* use all the entries in our dataset to train our model. Keep 20% of the data for later as a testing dataset (out-of-sample data).  "
   ]
  },
  {
   "cell_type": "code",
   "execution_count": 22,
   "metadata": {},
   "outputs": [],
   "source": [
    "y = df[['earnings']]\n",
    "X = df.drop(['earnings'], axis=1)"
   ]
  },
  {
   "cell_type": "code",
   "execution_count": 23,
   "metadata": {
    "id": "M_OfRSyunkA1"
   },
   "outputs": [],
   "source": [
    "# Create training and testing sets\n",
    "X_train, X_test, y_train, y_test = train_test_split(X, y, test_size=0.2, random_state=42)"
   ]
  },
  {
   "cell_type": "markdown",
   "metadata": {
    "id": "EM99NOH0noFS"
   },
   "source": [
    "# Simple Linear Regression\n",
    "\n",
    "Only use the years of schooling to predict earnings. Use sklearn to run the regression on the training dataset. How high is the r-squared for the regression on the training data? "
   ]
  },
  {
   "cell_type": "code",
   "execution_count": 24,
   "metadata": {
    "id": "J_MViuoNnvHf"
   },
   "outputs": [
    {
     "data": {
      "text/plain": [
       "LinearRegression()"
      ]
     },
     "execution_count": 24,
     "metadata": {},
     "output_type": "execute_result"
    }
   ],
   "source": [
    "# Fit your model to the training data\n",
    "lr = LinearRegression()\n",
    "lr.fit(X_train[['s']], y_train)"
   ]
  },
  {
   "cell_type": "markdown",
   "metadata": {},
   "source": [
    "### Evaluate on Training Data"
   ]
  },
  {
   "cell_type": "code",
   "execution_count": 25,
   "metadata": {
    "id": "QmhzZAmAoW4t"
   },
   "outputs": [
    {
     "name": "stdout",
     "output_type": "stream",
     "text": [
      "Coefficient of determination: 0.13444397225458282\n",
      "R^2: 0.13444397225458282\n",
      "MAE: 6.689740768037562\n",
      "MSE: 76.0768122505329\n",
      "RMSE: 8.722202259207986\n"
     ]
    }
   ],
   "source": [
    "# Evaluate the model performance on the training data\n",
    "r_sq = lr.score(X_train[['s']], y_train)\n",
    "print('Coefficient of determination:', r_sq)\n",
    "y_pred_train = lr.predict(X_train[['s']])\n",
    "print('R^2:', r2_score(y_train, y_pred_train))\n",
    "print('MAE:', mean_absolute_error(y_train, y_pred_train))\n",
    "print('MSE:', mean_squared_error(y_train, y_pred_train))\n",
    "print('RMSE:',np.sqrt(mean_squared_error(y_train, y_pred_train)))"
   ]
  },
  {
   "cell_type": "markdown",
   "metadata": {},
   "source": [
    "* R-squared comes in around 0.134 meaning that our model explains about 13.4% variance in the earnings."
   ]
  },
  {
   "cell_type": "markdown",
   "metadata": {},
   "source": [
    "### Evaluate on Test Data\n",
    "\n",
    "Calculate the same metrics on the test data."
   ]
  },
  {
   "cell_type": "code",
   "execution_count": 26,
   "metadata": {},
   "outputs": [
    {
     "name": "stdout",
     "output_type": "stream",
     "text": [
      "Coefficient of determination: 0.025173557859799023\n",
      "R^2: 0.025173557859799023\n",
      "MAE: 6.274715327934066\n",
      "MSE: 66.68805739044157\n",
      "RMSE: 8.16627561318142\n"
     ]
    }
   ],
   "source": [
    "# Evaluate the model performance on the test data\n",
    "r_sq = lr.score(X_test[['s']], y_test)\n",
    "print('Coefficient of determination:', r_sq)\n",
    "y_pred_test = lr.predict(X_test[['s']])\n",
    "print('R^2:', r2_score(y_test, y_pred_test))\n",
    "print('MAE:', mean_absolute_error(y_test, y_pred_test))\n",
    "print('MSE:', mean_squared_error(y_test, y_pred_test))\n",
    "print('RMSE:',np.sqrt(mean_squared_error(y_test, y_pred_test)))"
   ]
  },
  {
   "cell_type": "markdown",
   "metadata": {},
   "source": [
    "* R-squared comes in around 0.025 meaning that our model explains about 2.5% variance in the earnings."
   ]
  },
  {
   "cell_type": "markdown",
   "metadata": {
    "id": "s2TeWKs7oJSa"
   },
   "source": [
    "### Evaluate the Coefficients of the Model\n",
    "\n",
    "Here we do a sense check on our regression coefficients. The first thing to look for is if the coefficients have the expected sign (positive or negative). \n",
    "\n",
    "Interpret the regression. How many extra dollars can one expect to earn for an additional year of schooling?"
   ]
  },
  {
   "cell_type": "code",
   "execution_count": 27,
   "metadata": {
    "id": "e9hpdAt3oWnq"
   },
   "outputs": [
    {
     "name": "stdout",
     "output_type": "stream",
     "text": [
      "Intercept [-0.52914765]\n",
      "Coefficient [[1.27260294]]\n"
     ]
    }
   ],
   "source": [
    "print('Intercept', lr.intercept_)\n",
    "print('Coefficient', lr.coef_)"
   ]
  },
  {
   "cell_type": "markdown",
   "metadata": {},
   "source": [
    "* If one has 0 year of schooling, the estimated earning is -0.53 dollars.\n",
    "* For an additional year of schooling, one can expect to earn 1.27 extra dollars."
   ]
  },
  {
   "cell_type": "markdown",
   "metadata": {
    "id": "WIyMPXXYobx8"
   },
   "source": [
    "### Analyse the Estimated Values & Regression Residuals\n",
    "\n",
    "How good our regression is also depends on the residuals - the difference between the model's predictions ( 𝑦̂ 𝑖 ) and the true values ( 𝑦𝑖 ) inside y_train. Do you see any patterns in the distribution of the residuals?"
   ]
  },
  {
   "cell_type": "code",
   "execution_count": 28,
   "metadata": {
    "id": "khkgscweosP_"
   },
   "outputs": [
    {
     "data": {
      "text/html": [
       "<div>\n",
       "<style scoped>\n",
       "    .dataframe tbody tr th:only-of-type {\n",
       "        vertical-align: middle;\n",
       "    }\n",
       "\n",
       "    .dataframe tbody tr th {\n",
       "        vertical-align: top;\n",
       "    }\n",
       "\n",
       "    .dataframe thead th {\n",
       "        text-align: right;\n",
       "    }\n",
       "</style>\n",
       "<table border=\"1\" class=\"dataframe\">\n",
       "  <thead>\n",
       "    <tr style=\"text-align: right;\">\n",
       "      <th></th>\n",
       "      <th>actual</th>\n",
       "      <th>predicted</th>\n",
       "      <th>residual</th>\n",
       "    </tr>\n",
       "  </thead>\n",
       "  <tbody>\n",
       "    <tr>\n",
       "      <th>248</th>\n",
       "      <td>18.45</td>\n",
       "      <td>14.74</td>\n",
       "      <td>3.71</td>\n",
       "    </tr>\n",
       "    <tr>\n",
       "      <th>192</th>\n",
       "      <td>14.95</td>\n",
       "      <td>14.74</td>\n",
       "      <td>0.21</td>\n",
       "    </tr>\n",
       "    <tr>\n",
       "      <th>863</th>\n",
       "      <td>19.83</td>\n",
       "      <td>22.38</td>\n",
       "      <td>-2.55</td>\n",
       "    </tr>\n",
       "    <tr>\n",
       "      <th>912</th>\n",
       "      <td>10.00</td>\n",
       "      <td>18.56</td>\n",
       "      <td>-8.56</td>\n",
       "    </tr>\n",
       "    <tr>\n",
       "      <th>212</th>\n",
       "      <td>36.15</td>\n",
       "      <td>22.38</td>\n",
       "      <td>13.77</td>\n",
       "    </tr>\n",
       "  </tbody>\n",
       "</table>\n",
       "</div>"
      ],
      "text/plain": [
       "     actual  predicted  residual\n",
       "248   18.45      14.74      3.71\n",
       "192   14.95      14.74      0.21\n",
       "863   19.83      22.38     -2.55\n",
       "912   10.00      18.56     -8.56\n",
       "212   36.15      22.38     13.77"
      ]
     },
     "execution_count": 28,
     "metadata": {},
     "output_type": "execute_result"
    }
   ],
   "source": [
    "# Create a `results` dataframe\n",
    "results = pd.DataFrame(data={'actual': y_test['earnings'],\n",
    "                             'predicted': y_pred_test.ravel()})\n",
    "results['residual'] = results['actual'] - results['predicted']\n",
    "results.head()"
   ]
  },
  {
   "cell_type": "code",
   "execution_count": 29,
   "metadata": {
    "id": "m_diDXSXotm6"
   },
   "outputs": [
    {
     "data": {
      "image/png": "[encoded data removed]",
      "text/plain": [
       "<Figure size 600x600 with 1 Axes>"
      ]
     },
     "metadata": {},
     "output_type": "display_data"
    }
   ],
   "source": [
    "# Create a scatterplot to visualize `predicted` over `actual`\n",
    "fig, ax = plt.subplots(figsize=(6, 6))\n",
    "sns.set(style='whitegrid')\n",
    "sns.scatterplot(x='actual',\n",
    "                y='predicted',\n",
    "                data=results,\n",
    "                s=20,\n",
    "                alpha=0.5,\n",
    "                ax=ax\n",
    ")\n",
    "plt.plot([0,60], [0,60], c='red', linewidth=2)\n",
    "plt.title('Actual vs. predicted');"
   ]
  },
  {
   "cell_type": "code",
   "execution_count": 30,
   "metadata": {
    "id": "6DfAEUWNosHd"
   },
   "outputs": [
    {
     "data": {
      "image/png": "[encoded data removed]",
      "text/plain": [
       "<Figure size 640x480 with 1 Axes>"
      ]
     },
     "metadata": {},
     "output_type": "display_data"
    }
   ],
   "source": [
    "# Visualize the distribution of the `residuals`\n",
    "sns.histplot(results['residual'], bins=np.arange(-15,15.5,0.5))\n",
    "plt.title('Distribution of the residuals')\n",
    "plt.xlabel('residual value')\n",
    "plt.ylabel('count');"
   ]
  },
  {
   "cell_type": "code",
   "execution_count": 31,
   "metadata": {},
   "outputs": [
    {
     "data": {
      "text/plain": [
       "0.824635142407024"
      ]
     },
     "execution_count": 31,
     "metadata": {},
     "output_type": "execute_result"
    }
   ],
   "source": [
    "results['residual'].mean()"
   ]
  },
  {
   "cell_type": "code",
   "execution_count": 32,
   "metadata": {},
   "outputs": [
    {
     "data": {
      "image/png": "[encoded data removed]",
      "text/plain": [
       "<Figure size 640x480 with 1 Axes>"
      ]
     },
     "metadata": {},
     "output_type": "display_data"
    }
   ],
   "source": [
    "# Create a scatterplot of `residuals` over `predicted`\n",
    "sns.scatterplot(x='predicted', y='residual', data=results)\n",
    "plt.axhline(0, c='red')\n",
    "plt.title('Scatterplot of residuals over predicted values')\n",
    "plt.xlabel('predicted value')\n",
    "plt.ylabel('residual value')\n",
    "plt.show()"
   ]
  },
  {
   "cell_type": "markdown",
   "metadata": {
    "id": "zNBuJ1iBnvpl"
   },
   "source": [
    "# Multivariable Regression\n",
    "\n",
    "Now use both years of schooling and the years work experience to predict earnings. How high is the r-squared for the regression on the training data? "
   ]
  },
  {
   "cell_type": "code",
   "execution_count": 33,
   "metadata": {
    "id": "Ihq-C4looCSM"
   },
   "outputs": [
    {
     "data": {
      "text/plain": [
       "LinearRegression()"
      ]
     },
     "execution_count": 33,
     "metadata": {},
     "output_type": "execute_result"
    }
   ],
   "source": [
    "# Fit your model to the training data\n",
    "lr = LinearRegression()\n",
    "lr.fit(X_train[['s', 'exp']], y_train)"
   ]
  },
  {
   "cell_type": "markdown",
   "metadata": {},
   "source": [
    "### Evaluate on Training Data"
   ]
  },
  {
   "cell_type": "code",
   "execution_count": 34,
   "metadata": {
    "id": "QmhzZAmAoW4t"
   },
   "outputs": [
    {
     "name": "stdout",
     "output_type": "stream",
     "text": [
      "Coefficient of determination: 0.15379832704382956\n",
      "R^2: 0.15379832704382956\n",
      "MAE: 6.606233001237823\n",
      "MSE: 74.37568884738701\n",
      "RMSE: 8.624134092613994\n"
     ]
    }
   ],
   "source": [
    "# Evaluate the model performance on the training data\n",
    "r_sq = lr.score(X_train[['s', 'exp']], y_train)\n",
    "print('Coefficient of determination:', r_sq)\n",
    "y_pred_train = lr.predict(X_train[['s', 'exp']])\n",
    "print('R^2:', r2_score(y_train, y_pred_train))\n",
    "print('MAE:', mean_absolute_error(y_train, y_pred_train))\n",
    "print('MSE:', mean_squared_error(y_train, y_pred_train))\n",
    "print('RMSE:',np.sqrt(mean_squared_error(y_train, y_pred_train)))"
   ]
  },
  {
   "cell_type": "markdown",
   "metadata": {},
   "source": [
    "* R-squared comes in 0.154 meaning that our model explains about 15.4% variance in the earnings."
   ]
  },
  {
   "cell_type": "markdown",
   "metadata": {},
   "source": [
    "### Evaluate on Test Data\n",
    "\n",
    "Calculate the same metrics on the test data."
   ]
  },
  {
   "cell_type": "code",
   "execution_count": 35,
   "metadata": {},
   "outputs": [
    {
     "name": "stdout",
     "output_type": "stream",
     "text": [
      "Coefficient of determination: 0.09933811116238811\n",
      "R^2: 0.09933811116238811\n",
      "MAE: 6.011908238759328\n",
      "MSE: 61.614446567861734\n",
      "RMSE: 7.849487025778291\n"
     ]
    }
   ],
   "source": [
    "# Evaluate the model performance on the test data\n",
    "r_sq = lr.score(X_test[['s', 'exp']], y_test)\n",
    "print('Coefficient of determination:', r_sq)\n",
    "y_pred_test = lr.predict(X_test[['s', 'exp']])\n",
    "print('R^2:', r2_score(y_test, y_pred_test))\n",
    "print('MAE:', mean_absolute_error(y_test, y_pred_test))\n",
    "print('MSE:', mean_squared_error(y_test, y_pred_test))\n",
    "print('RMSE:',np.sqrt(mean_squared_error(y_test, y_pred_test)))"
   ]
  },
  {
   "cell_type": "markdown",
   "metadata": {},
   "source": [
    "* R-squared comes in around 0.1 meaning that our model explains about 10% variance in the earnings."
   ]
  },
  {
   "cell_type": "markdown",
   "metadata": {
    "id": "nHDtunM0oyuk"
   },
   "source": [
    "### Evaluate the Coefficients of the Model"
   ]
  },
  {
   "cell_type": "code",
   "execution_count": 36,
   "metadata": {
    "id": "e9hpdAt3oWnq"
   },
   "outputs": [
    {
     "name": "stdout",
     "output_type": "stream",
     "text": [
      "Intercept [-10.9997048]\n",
      "Coefficient [[1.70417559 0.68862426]]\n"
     ]
    }
   ],
   "source": [
    "print('Intercept', lr.intercept_)\n",
    "print('Coefficient', lr.coef_)"
   ]
  },
  {
   "cell_type": "markdown",
   "metadata": {},
   "source": [
    "* If one has 0 year of schooling and 0 year of work experience, the estimated earning is -11 dollars.\n",
    "* For an additional year of schooling, one can expect to earn 1.7 extra dollars.\n",
    "* For an additional year of work experience, one can expect to earn 0.69 extra dollars."
   ]
  },
  {
   "cell_type": "markdown",
   "metadata": {
    "id": "Yv8q90IYou2Q"
   },
   "source": [
    "### Analyse the Estimated Values & Regression Residuals"
   ]
  },
  {
   "cell_type": "code",
   "execution_count": 37,
   "metadata": {
    "id": "khkgscweosP_"
   },
   "outputs": [
    {
     "data": {
      "text/html": [
       "<div>\n",
       "<style scoped>\n",
       "    .dataframe tbody tr th:only-of-type {\n",
       "        vertical-align: middle;\n",
       "    }\n",
       "\n",
       "    .dataframe tbody tr th {\n",
       "        vertical-align: top;\n",
       "    }\n",
       "\n",
       "    .dataframe thead th {\n",
       "        text-align: right;\n",
       "    }\n",
       "</style>\n",
       "<table border=\"1\" class=\"dataframe\">\n",
       "  <thead>\n",
       "    <tr style=\"text-align: right;\">\n",
       "      <th></th>\n",
       "      <th>actual</th>\n",
       "      <th>predicted</th>\n",
       "      <th>residual</th>\n",
       "    </tr>\n",
       "  </thead>\n",
       "  <tbody>\n",
       "    <tr>\n",
       "      <th>248</th>\n",
       "      <td>18.45</td>\n",
       "      <td>15.87</td>\n",
       "      <td>2.58</td>\n",
       "    </tr>\n",
       "    <tr>\n",
       "      <th>192</th>\n",
       "      <td>14.95</td>\n",
       "      <td>12.26</td>\n",
       "      <td>2.69</td>\n",
       "    </tr>\n",
       "    <tr>\n",
       "      <th>863</th>\n",
       "      <td>19.83</td>\n",
       "      <td>23.25</td>\n",
       "      <td>-3.42</td>\n",
       "    </tr>\n",
       "    <tr>\n",
       "      <th>912</th>\n",
       "      <td>10.00</td>\n",
       "      <td>19.05</td>\n",
       "      <td>-9.05</td>\n",
       "    </tr>\n",
       "    <tr>\n",
       "      <th>212</th>\n",
       "      <td>36.15</td>\n",
       "      <td>21.57</td>\n",
       "      <td>14.58</td>\n",
       "    </tr>\n",
       "  </tbody>\n",
       "</table>\n",
       "</div>"
      ],
      "text/plain": [
       "     actual  predicted  residual\n",
       "248   18.45      15.87      2.58\n",
       "192   14.95      12.26      2.69\n",
       "863   19.83      23.25     -3.42\n",
       "912   10.00      19.05     -9.05\n",
       "212   36.15      21.57     14.58"
      ]
     },
     "execution_count": 37,
     "metadata": {},
     "output_type": "execute_result"
    }
   ],
   "source": [
    "# Create a `results` dataframe\n",
    "results = pd.DataFrame(data={'actual': y_test['earnings'],\n",
    "                             'predicted': y_pred_test.ravel()})\n",
    "results['residual'] = results['actual'] - results['predicted']\n",
    "results.head()"
   ]
  },
  {
   "cell_type": "code",
   "execution_count": 38,
   "metadata": {
    "id": "m_diDXSXotm6"
   },
   "outputs": [
    {
     "data": {
      "image/png": "[encoded data removed]",
      "text/plain": [
       "<Figure size 600x600 with 1 Axes>"
      ]
     },
     "metadata": {},
     "output_type": "display_data"
    }
   ],
   "source": [
    "# Create a scatterplot to visualize `predicted` over `actual`\n",
    "fig, ax = plt.subplots(figsize=(6, 6))\n",
    "sns.set(style='whitegrid')\n",
    "sns.scatterplot(x='actual',\n",
    "                y='predicted',\n",
    "                data=results,\n",
    "                s=20,\n",
    "                alpha=0.5,\n",
    "                ax=ax\n",
    ")\n",
    "plt.plot([0,60], [0,60], c='red', linewidth=2)\n",
    "plt.title('Actual vs. predicted');"
   ]
  },
  {
   "cell_type": "code",
   "execution_count": 39,
   "metadata": {
    "id": "6DfAEUWNosHd"
   },
   "outputs": [
    {
     "data": {
      "image/png": "[encoded data removed]",
      "text/plain": [
       "<Figure size 640x480 with 1 Axes>"
      ]
     },
     "metadata": {},
     "output_type": "display_data"
    }
   ],
   "source": [
    "# Visualize the distribution of the `residuals`\n",
    "sns.histplot(results['residual'], bins=np.arange(-15,15.5,0.5))\n",
    "plt.title('Distribution of the residuals')\n",
    "plt.xlabel('residual value')\n",
    "plt.ylabel('count');"
   ]
  },
  {
   "cell_type": "code",
   "execution_count": 40,
   "metadata": {},
   "outputs": [
    {
     "data": {
      "text/plain": [
       "0.6637035343971511"
      ]
     },
     "execution_count": 40,
     "metadata": {},
     "output_type": "execute_result"
    }
   ],
   "source": [
    "results['residual'].mean()"
   ]
  },
  {
   "cell_type": "code",
   "execution_count": 41,
   "metadata": {},
   "outputs": [
    {
     "data": {
      "image/png": "[encoded data removed]",
      "text/plain": [
       "<Figure size 640x480 with 1 Axes>"
      ]
     },
     "metadata": {},
     "output_type": "display_data"
    }
   ],
   "source": [
    "# Create a scatterplot of `residuals` over `predicted`\n",
    "sns.scatterplot(x='predicted', y='residual', data=results)\n",
    "plt.axhline(0, c='red')\n",
    "plt.title('Scatterplot of residuals over predicted values')\n",
    "plt.xlabel('predicted value')\n",
    "plt.ylabel('residual value')\n",
    "plt.show()"
   ]
  },
  {
   "cell_type": "markdown",
   "metadata": {
    "id": "YWNeoqPLpjVb"
   },
   "source": [
    "### Use Your Model to Make a Prediction\n",
    "\n",
    "How much can someone with a bachelors degree (12 + 4) years of schooling and 5 years work experience expect to earn in 2011?"
   ]
  },
  {
   "cell_type": "code",
   "execution_count": 42,
   "metadata": {
    "id": "Mof-14lCpv60"
   },
   "outputs": [
    {
     "data": {
      "text/plain": [
       "array([[19.71022596]])"
      ]
     },
     "execution_count": 42,
     "metadata": {},
     "output_type": "execute_result"
    }
   ],
   "source": [
    "X_to_predict = pd.DataFrame(data={'s': [16],\n",
    "                                  'exp': [5]})\n",
    "y_to_predict = lr.predict(X_to_predict)\n",
    "y_to_predict"
   ]
  },
  {
   "cell_type": "markdown",
   "metadata": {
    "id": "3htX8_SBpvyb"
   },
   "source": [
    "* With a bachelors degree (12 + 4) years of schooling and 5 years work experience, one can expect to earn 19.7 $/hour."
   ]
  },
  {
   "cell_type": "markdown",
   "metadata": {
    "id": "TIYI-eQepDSQ"
   },
   "source": [
    "# Experiment and Investigate Further\n",
    "\n",
    "Which other features could you consider adding to further improve the regression to better predict earnings? "
   ]
  },
  {
   "cell_type": "markdown",
   "metadata": {},
   "source": [
    "### Investigate more variables"
   ]
  },
  {
   "cell_type": "markdown",
   "metadata": {},
   "source": [
    "Make a correlation heatmap."
   ]
  },
  {
   "cell_type": "code",
   "execution_count": 43,
   "metadata": {},
   "outputs": [
    {
     "data": {
      "image/png": "[encoded data removed]",
      "text/plain": [
       "<Figure size 640x480 with 2 Axes>"
      ]
     },
     "metadata": {},
     "output_type": "display_data"
    }
   ],
   "source": [
    "sns.heatmap(df[['earnings', 's', 'exp', 'hours', 'tenure', 'jobs', 'collbarg']].corr(method='pearson'), annot=True, cmap='Reds')\n",
    "plt.title('Correlation heatmap',\n",
    "          fontsize=18)\n",
    "plt.show()"
   ]
  },
  {
   "cell_type": "markdown",
   "metadata": {},
   "source": [
    "* We'll try `s`, `tenure`, `hours`, and `collbarg`.\n",
    "* As `tenure` and `exp` are correlated, but `exp` - `earnings` correlation score is -0.1 so we try testing by excluding `exp`."
   ]
  },
  {
   "cell_type": "code",
   "execution_count": 44,
   "metadata": {
    "id": "Ihq-C4looCSM"
   },
   "outputs": [
    {
     "data": {
      "text/plain": [
       "LinearRegression()"
      ]
     },
     "execution_count": 44,
     "metadata": {},
     "output_type": "execute_result"
    }
   ],
   "source": [
    "# Fit your model to the training data\n",
    "lr = LinearRegression()\n",
    "lr.fit(X_train[['s', 'tenure', 'hours', 'collbarg']], y_train)"
   ]
  },
  {
   "cell_type": "markdown",
   "metadata": {},
   "source": [
    "### Evaluate on Training Data"
   ]
  },
  {
   "cell_type": "code",
   "execution_count": 45,
   "metadata": {
    "id": "QmhzZAmAoW4t"
   },
   "outputs": [
    {
     "name": "stdout",
     "output_type": "stream",
     "text": [
      "Coefficient of determination: 0.20649173665869702\n",
      "R^2: 0.20649173665869702\n",
      "MAE: 6.334154260520211\n",
      "MSE: 69.74427678206688\n",
      "RMSE: 8.351303897120909\n"
     ]
    }
   ],
   "source": [
    "# Evaluate the model performance on the training data\n",
    "r_sq = lr.score(X_train[['s', 'tenure', 'hours', 'collbarg']], y_train)\n",
    "print('Coefficient of determination:', r_sq)\n",
    "y_pred_train = lr.predict(X_train[['s', 'tenure', 'hours', 'collbarg']])\n",
    "print('R^2:', r2_score(y_train, y_pred_train))\n",
    "print('MAE:', mean_absolute_error(y_train, y_pred_train))\n",
    "print('MSE:', mean_squared_error(y_train, y_pred_train))\n",
    "print('RMSE:',np.sqrt(mean_squared_error(y_train, y_pred_train)))"
   ]
  },
  {
   "cell_type": "markdown",
   "metadata": {},
   "source": [
    "* R-squared comes in 0.206 meaning that our model explains about 20,6% variance in the earnings."
   ]
  },
  {
   "cell_type": "markdown",
   "metadata": {},
   "source": [
    "### Evaluate on Test Data\n",
    "\n",
    "Calculate the same metrics on the test data."
   ]
  },
  {
   "cell_type": "code",
   "execution_count": 46,
   "metadata": {},
   "outputs": [
    {
     "name": "stdout",
     "output_type": "stream",
     "text": [
      "Coefficient of determination: 0.12389636481510724\n",
      "R^2: 0.12389636481510724\n",
      "MAE: 5.632665613837425\n",
      "MSE: 59.93441188865674\n",
      "RMSE: 7.741731840399584\n"
     ]
    }
   ],
   "source": [
    "# Evaluate the model performance on the test data\n",
    "r_sq = lr.score(X_test[['s', 'tenure', 'hours', 'collbarg']], y_test)\n",
    "print('Coefficient of determination:', r_sq)\n",
    "y_pred_test = lr.predict(X_test[['s', 'tenure', 'hours', 'collbarg']])\n",
    "print('R^2:', r2_score(y_test, y_pred_test))\n",
    "print('MAE:', mean_absolute_error(y_test, y_pred_test))\n",
    "print('MSE:', mean_squared_error(y_test, y_pred_test))\n",
    "print('RMSE:',np.sqrt(mean_squared_error(y_test, y_pred_test)))"
   ]
  },
  {
   "cell_type": "markdown",
   "metadata": {},
   "source": [
    "* R-squared comes in around 0.124 meaning that our model explains about 12.4% variance in the earnings."
   ]
  },
  {
   "cell_type": "markdown",
   "metadata": {
    "id": "nHDtunM0oyuk"
   },
   "source": [
    "### Evaluate the Coefficients of the Model"
   ]
  },
  {
   "cell_type": "code",
   "execution_count": 47,
   "metadata": {
    "id": "e9hpdAt3oWnq"
   },
   "outputs": [
    {
     "name": "stdout",
     "output_type": "stream",
     "text": [
      "Intercept [-5.27060657]\n",
      "Coefficient [[1.2093429  0.75068794 0.06522635 4.67671127]]\n"
     ]
    }
   ],
   "source": [
    "print('Intercept', lr.intercept_)\n",
    "print('Coefficient', lr.coef_)"
   ]
  },
  {
   "cell_type": "markdown",
   "metadata": {},
   "source": [
    "* If one has 0 year of schooling, 0 year tenure, 0 hours worked per week, and pay not set by collective bargaining, the estimated earning is -5.27 dollars.\n",
    "* For an additional year of schooling, one can expect to earn 1.21 extra dollars.\n",
    "* For an additional year tenure, one can expect to earn 0.75 extra dollars.\n",
    "* For an additional hour worked per week, one can expect to earn 0.06 extra dollars.\n",
    "* If pay set by collective bargaining, one can expect to earning 4.67 extra dollars."
   ]
  },
  {
   "cell_type": "markdown",
   "metadata": {
    "id": "Yv8q90IYou2Q"
   },
   "source": [
    "### Analyse the Estimated Values & Regression Residuals"
   ]
  },
  {
   "cell_type": "code",
   "execution_count": 48,
   "metadata": {
    "id": "khkgscweosP_"
   },
   "outputs": [
    {
     "data": {
      "text/html": [
       "<div>\n",
       "<style scoped>\n",
       "    .dataframe tbody tr th:only-of-type {\n",
       "        vertical-align: middle;\n",
       "    }\n",
       "\n",
       "    .dataframe tbody tr th {\n",
       "        vertical-align: top;\n",
       "    }\n",
       "\n",
       "    .dataframe thead th {\n",
       "        text-align: right;\n",
       "    }\n",
       "</style>\n",
       "<table border=\"1\" class=\"dataframe\">\n",
       "  <thead>\n",
       "    <tr style=\"text-align: right;\">\n",
       "      <th></th>\n",
       "      <th>actual</th>\n",
       "      <th>predicted</th>\n",
       "      <th>residual</th>\n",
       "    </tr>\n",
       "  </thead>\n",
       "  <tbody>\n",
       "    <tr>\n",
       "      <th>248</th>\n",
       "      <td>18.45</td>\n",
       "      <td>12.75</td>\n",
       "      <td>5.70</td>\n",
       "    </tr>\n",
       "    <tr>\n",
       "      <th>192</th>\n",
       "      <td>14.95</td>\n",
       "      <td>14.85</td>\n",
       "      <td>0.10</td>\n",
       "    </tr>\n",
       "    <tr>\n",
       "      <th>863</th>\n",
       "      <td>19.83</td>\n",
       "      <td>28.56</td>\n",
       "      <td>-8.73</td>\n",
       "    </tr>\n",
       "    <tr>\n",
       "      <th>912</th>\n",
       "      <td>10.00</td>\n",
       "      <td>15.74</td>\n",
       "      <td>-5.74</td>\n",
       "    </tr>\n",
       "    <tr>\n",
       "      <th>212</th>\n",
       "      <td>36.15</td>\n",
       "      <td>23.71</td>\n",
       "      <td>12.44</td>\n",
       "    </tr>\n",
       "  </tbody>\n",
       "</table>\n",
       "</div>"
      ],
      "text/plain": [
       "     actual  predicted  residual\n",
       "248   18.45      12.75      5.70\n",
       "192   14.95      14.85      0.10\n",
       "863   19.83      28.56     -8.73\n",
       "912   10.00      15.74     -5.74\n",
       "212   36.15      23.71     12.44"
      ]
     },
     "execution_count": 48,
     "metadata": {},
     "output_type": "execute_result"
    }
   ],
   "source": [
    "# Create a `results` dataframe\n",
    "results = pd.DataFrame(data={'actual': y_test['earnings'],\n",
    "                             'predicted': y_pred_test.ravel()})\n",
    "results['residual'] = results['actual'] - results['predicted']\n",
    "results.head()"
   ]
  },
  {
   "cell_type": "code",
   "execution_count": 49,
   "metadata": {
    "id": "m_diDXSXotm6"
   },
   "outputs": [
    {
     "data": {
      "image/png": "[encoded data removed]",
      "text/plain": [
       "<Figure size 600x600 with 1 Axes>"
      ]
     },
     "metadata": {},
     "output_type": "display_data"
    }
   ],
   "source": [
    "# Create a scatterplot to visualize `predicted` over `actual`\n",
    "fig, ax = plt.subplots(figsize=(6, 6))\n",
    "sns.set(style='whitegrid')\n",
    "sns.scatterplot(x='actual',\n",
    "                y='predicted',\n",
    "                data=results,\n",
    "                s=20,\n",
    "                alpha=0.5,\n",
    "                ax=ax\n",
    ")\n",
    "plt.plot([0,60], [0,60], c='red', linewidth=2)\n",
    "plt.title('Actual vs. predicted');"
   ]
  },
  {
   "cell_type": "code",
   "execution_count": 50,
   "metadata": {
    "id": "6DfAEUWNosHd"
   },
   "outputs": [
    {
     "data": {
      "image/png": "[encoded data removed]",
      "text/plain": [
       "<Figure size 640x480 with 1 Axes>"
      ]
     },
     "metadata": {},
     "output_type": "display_data"
    }
   ],
   "source": [
    "# Visualize the distribution of the `residuals`\n",
    "sns.histplot(results['residual'], bins=np.arange(-15,15.5,0.5))\n",
    "plt.title('Distribution of the residuals')\n",
    "plt.xlabel('residual value')\n",
    "plt.ylabel('count');"
   ]
  },
  {
   "cell_type": "code",
   "execution_count": 51,
   "metadata": {},
   "outputs": [
    {
     "data": {
      "text/plain": [
       "0.757242375004526"
      ]
     },
     "execution_count": 51,
     "metadata": {},
     "output_type": "execute_result"
    }
   ],
   "source": [
    "results['residual'].mean()"
   ]
  },
  {
   "cell_type": "code",
   "execution_count": 52,
   "metadata": {},
   "outputs": [
    {
     "data": {
      "image/png": "[encoded data removed]",
      "text/plain": [
       "<Figure size 640x480 with 1 Axes>"
      ]
     },
     "metadata": {},
     "output_type": "display_data"
    }
   ],
   "source": [
    "# Create a scatterplot of `residuals` over `predicted`\n",
    "sns.scatterplot(x='predicted', y='residual', data=results)\n",
    "plt.axhline(0, c='red')\n",
    "plt.title('Scatterplot of residuals over predicted values')\n",
    "plt.xlabel('predicted value')\n",
    "plt.ylabel('residual value')\n",
    "plt.show()"
   ]
  },
  {
   "cell_type": "markdown",
   "metadata": {
    "id": "YWNeoqPLpjVb"
   },
   "source": [
    "### Use Your Model to Make a Prediction\n",
    "\n",
    "How much can someone with a bachelors degree (12 + 4) years of schooling, 5 years tenure, 50 hours worked per week expect to earn in 2011?"
   ]
  },
  {
   "cell_type": "code",
   "execution_count": 53,
   "metadata": {
    "id": "Mof-14lCpv60"
   },
   "outputs": [
    {
     "data": {
      "text/plain": [
       "array([[25.77034823]])"
      ]
     },
     "execution_count": 53,
     "metadata": {},
     "output_type": "execute_result"
    }
   ],
   "source": [
    "X_to_predict = pd.DataFrame(data={'s': [16],\n",
    "                                  'tenure': [5],\n",
    "                                  'hours': [50],\n",
    "                                  'collbarg': [1]})\n",
    "y_to_predict = lr.predict(X_to_predict)\n",
    "y_to_predict"
   ]
  },
  {
   "cell_type": "markdown",
   "metadata": {
    "id": "3htX8_SBpvyb"
   },
   "source": [
    "* With a bachelors degree (12 + 4) years of schooling, 5 years tenure, 50 hours worked per week, pay set by collective bargaining, one can expect to earn 25.77 $/hour."
   ]
  },
  {
   "cell_type": "markdown",
   "metadata": {},
   "source": [
    "# Build with all variables"
   ]
  },
  {
   "cell_type": "code",
   "execution_count": 54,
   "metadata": {
    "id": "Mof-14lCpv60"
   },
   "outputs": [
    {
     "data": {
      "text/plain": [
       "LinearRegression()"
      ]
     },
     "execution_count": 54,
     "metadata": {},
     "output_type": "execute_result"
    }
   ],
   "source": [
    "lr = LinearRegression()\n",
    "lr.fit(X_train, y_train)"
   ]
  },
  {
   "cell_type": "markdown",
   "metadata": {},
   "source": [
    "### Evaluate on Training Data"
   ]
  },
  {
   "cell_type": "code",
   "execution_count": 55,
   "metadata": {
    "id": "QmhzZAmAoW4t"
   },
   "outputs": [
    {
     "name": "stdout",
     "output_type": "stream",
     "text": [
      "Coefficient of determination: 0.4750137976080444\n",
      "R^2: 0.4750137976080444\n",
      "MAE: 5.2275276077903765\n",
      "MSE: 46.14291331033312\n",
      "RMSE: 6.792857521715962\n"
     ]
    }
   ],
   "source": [
    "# Evaluate the model performance on the training data\n",
    "r_sq = lr.score(X_train, y_train)\n",
    "print('Coefficient of determination:', r_sq)\n",
    "y_pred_train = lr.predict(X_train)\n",
    "print('R^2:', r2_score(y_train, y_pred_train))\n",
    "print('MAE:', mean_absolute_error(y_train, y_pred_train))\n",
    "print('MSE:', mean_squared_error(y_train, y_pred_train))\n",
    "print('RMSE:',np.sqrt(mean_squared_error(y_train, y_pred_train)))"
   ]
  },
  {
   "cell_type": "markdown",
   "metadata": {},
   "source": [
    "* R-squared comes in around 0.475 meaning that our model explains about 47.5% variance in the earnings."
   ]
  },
  {
   "cell_type": "markdown",
   "metadata": {},
   "source": [
    "### Evaluate on Test Data"
   ]
  },
  {
   "cell_type": "code",
   "execution_count": 56,
   "metadata": {},
   "outputs": [
    {
     "name": "stdout",
     "output_type": "stream",
     "text": [
      "Coefficient of determination: 0.18023098215256284\n",
      "R^2: 0.18023098215256284\n",
      "MAE: 5.626137146158714\n",
      "MSE: 56.080550286564\n",
      "RMSE: 7.488694831982674\n"
     ]
    }
   ],
   "source": [
    "# Evaluate the model performance on the test data\n",
    "r_sq = lr.score(X_test, y_test)\n",
    "print('Coefficient of determination:', r_sq)\n",
    "y_pred_test = lr.predict(X_test)\n",
    "print('R^2:', r2_score(y_test, y_pred_test))\n",
    "print('MAE:', mean_absolute_error(y_test, y_pred_test))\n",
    "print('MSE:', mean_squared_error(y_test, y_pred_test))\n",
    "print('RMSE:',np.sqrt(mean_squared_error(y_test, y_pred_test)))"
   ]
  },
  {
   "cell_type": "markdown",
   "metadata": {},
   "source": [
    "* R-squared comes in around 0.18 meaning that our model explains about 18% variance in the earnings."
   ]
  },
  {
   "cell_type": "markdown",
   "metadata": {},
   "source": [
    "# Conclussion\n",
    "\n",
    "* As we observed, with model using all variable, the r-squared score is 0.475 but it decreased significant to 0.18 after apply test data.\n",
    "* With `s`, `tenure`, `hours`, the score decreased from 0.18 to 0.14, less abruptly.\n",
    "* Overall, we can conclude that the dataset is not suitable to predict earnings efficiently because the r-squared score at all cases are too low to make things work. We need r-squared score pretty high, around 0.8 to consider for appication."
   ]
  }
 ],
 "metadata": {
  "colab": {
   "name": "Determinants of Earnings (start).ipynb",
   "provenance": [],
   "toc_visible": true
  },
  "kernelspec": {
   "display_name": "Python 3 (ipykernel)",
   "language": "python",
   "name": "python3"
  },
  "language_info": {
   "codemirror_mode": {
    "name": "ipython",
    "version": 3
   },
   "file_extension": ".py",
   "mimetype": "text/x-python",
   "name": "python",
   "nbconvert_exporter": "python",
   "pygments_lexer": "ipython3",
   "version": "3.9.13"
  }
 },
 "nbformat": 4,
 "nbformat_minor": 1
}
